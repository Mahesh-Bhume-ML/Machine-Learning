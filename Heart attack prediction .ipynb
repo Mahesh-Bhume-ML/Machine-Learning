{
 "cells": [
  {
   "cell_type": "markdown",
   "metadata": {},
   "source": [
    "# Heart attack prediction "
   ]
  },
  {
   "cell_type": "markdown",
   "metadata": {},
   "source": [
    "In this notebook task I will be required to reformulate the problem and design a solution for  international healthcare provider, who is interested in whether machine learning could be used to help them develop a user-friendly model capable of detecting a stroke in patients. As a starting point, I would create an ensemble system (2 or more Machine Learning algorithms) which, given some data about a patient, can predict whether there is a stroke risk or not (or give the probability of a stroke)\n",
    "\n",
    "The provided dataset which contains medical information of more than 600 persons. \n",
    "\n",
    "It also indicated that the dataset does require some pre-processing. In particular, removing any row in the dataset which contains a missing (NaN) value. \n",
    "\n",
    "While developing solution I've taken following steps into consideration when preparing the data.\n",
    "\n",
    "• Concentrate on features which are well known to be contribute to the risk of a stroke. I've been provided with the following resources to help me choose the feature variables for my model.\n",
    "https://www.betterhealth.vic.gov.au/health/conditionsandtreatments/stroke-risk-factors-and-prevention\n",
    "\n",
    "The task required to convert some of the numerical feature variables into categorical ones, I will be using label encoding and one hot encoding models. I've been provided with the following resources to help me choose the feature variables for my model.\n",
    "https://medlineplus.gov/lab-tests/cholesterol-levels/\n",
    "\n",
    "I've been provided with the following reserch paper to decide if after EDA phase I choose to consider Smoking rate as a feature variable. https://jamanetwork.com/journals/jama/article-abstract/192181\n",
    "\n",
    "This notebook provides a good solution to this problem would predict (with reasonable accuracy) whether or not a new patient (i.e., one that is not in the dataset) was at high risk of a stroke. It is also important that the solution performs well for both well and at-risk persons.\n"
   ]
  },
  {
   "cell_type": "code",
   "execution_count": 190,
   "metadata": {},
   "outputs": [],
   "source": [
    "import pandas as pd\n",
    "import numpy as np\n",
    "import seaborn as sns\n",
    "import matplotlib.pyplot as plt\n",
    "%matplotlib inline\n",
    "\n",
    "from sklearn.model_selection import train_test_split\n",
    "from sklearn.preprocessing import StandardScaler\n",
    "from sklearn.impute import KNNImputer\n",
    "\n",
    "from sklearn import model_selection\n",
    "from sklearn.linear_model import LogisticRegression\n",
    "from sklearn.neighbors import KNeighborsClassifier\n",
    "from sklearn.tree import DecisionTreeClassifier\n",
    "from sklearn.svm import LinearSVC, SVC\n",
    "from sklearn.neural_network import MLPClassifier\n",
    "from sklearn.ensemble import RandomForestClassifier, GradientBoostingClassifier, BaggingClassifier, AdaBoostClassifier, VotingClassifier\n",
    "\n",
    "from sklearn.metrics import accuracy_score, f1_score\n",
    "\n",
    "import warnings\n",
    "warnings.filterwarnings(action='ignore')"
   ]
  },
  {
   "cell_type": "code",
   "execution_count": 162,
   "metadata": {},
   "outputs": [
    {
     "data": {
      "text/html": [
       "<div>\n",
       "<style scoped>\n",
       "    .dataframe tbody tr th:only-of-type {\n",
       "        vertical-align: middle;\n",
       "    }\n",
       "\n",
       "    .dataframe tbody tr th {\n",
       "        vertical-align: top;\n",
       "    }\n",
       "\n",
       "    .dataframe thead th {\n",
       "        text-align: right;\n",
       "    }\n",
       "</style>\n",
       "<table border=\"1\" class=\"dataframe\">\n",
       "  <thead>\n",
       "    <tr style=\"text-align: right;\">\n",
       "      <th></th>\n",
       "      <th>RANDID</th>\n",
       "      <th>TOTCHOL</th>\n",
       "      <th>AGE</th>\n",
       "      <th>SYSBP</th>\n",
       "      <th>DIABP</th>\n",
       "      <th>TIMEMI</th>\n",
       "      <th>CIGPDAY</th>\n",
       "      <th>TIME</th>\n",
       "      <th>STROKE</th>\n",
       "      <th>BMI</th>\n",
       "    </tr>\n",
       "  </thead>\n",
       "  <tbody>\n",
       "    <tr>\n",
       "      <th>0</th>\n",
       "      <td>2448</td>\n",
       "      <td>196.0</td>\n",
       "      <td>52.0</td>\n",
       "      <td>100.0</td>\n",
       "      <td>62.0</td>\n",
       "      <td>6438.0</td>\n",
       "      <td>0.0</td>\n",
       "      <td>4628</td>\n",
       "      <td>2.0</td>\n",
       "      <td>NaN</td>\n",
       "    </tr>\n",
       "    <tr>\n",
       "      <th>1</th>\n",
       "      <td>6238</td>\n",
       "      <td>223.0</td>\n",
       "      <td>58.0</td>\n",
       "      <td>122.0</td>\n",
       "      <td>75.0</td>\n",
       "      <td>8766.0</td>\n",
       "      <td>0.0</td>\n",
       "      <td>4344</td>\n",
       "      <td>2.0</td>\n",
       "      <td>28.5</td>\n",
       "    </tr>\n",
       "    <tr>\n",
       "      <th>2</th>\n",
       "      <td>11252</td>\n",
       "      <td>232.0</td>\n",
       "      <td>58.0</td>\n",
       "      <td>131.0</td>\n",
       "      <td>70.0</td>\n",
       "      <td>8766.0</td>\n",
       "      <td>0.0</td>\n",
       "      <td>4285</td>\n",
       "      <td>2.0</td>\n",
       "      <td>24.6</td>\n",
       "    </tr>\n",
       "    <tr>\n",
       "      <th>3</th>\n",
       "      <td>11263</td>\n",
       "      <td>216.0</td>\n",
       "      <td>55.0</td>\n",
       "      <td>140.0</td>\n",
       "      <td>70.0</td>\n",
       "      <td>8766.0</td>\n",
       "      <td>0.0</td>\n",
       "      <td>4351</td>\n",
       "      <td>1.0</td>\n",
       "      <td>31.2</td>\n",
       "    </tr>\n",
       "    <tr>\n",
       "      <th>4</th>\n",
       "      <td>12806</td>\n",
       "      <td>208.0</td>\n",
       "      <td>57.0</td>\n",
       "      <td>127.0</td>\n",
       "      <td>75.0</td>\n",
       "      <td>8766.0</td>\n",
       "      <td>0.0</td>\n",
       "      <td>4289</td>\n",
       "      <td>2.0</td>\n",
       "      <td>22.0</td>\n",
       "    </tr>\n",
       "    <tr>\n",
       "      <th>...</th>\n",
       "      <td>...</td>\n",
       "      <td>...</td>\n",
       "      <td>...</td>\n",
       "      <td>...</td>\n",
       "      <td>...</td>\n",
       "      <td>...</td>\n",
       "      <td>...</td>\n",
       "      <td>...</td>\n",
       "      <td>...</td>\n",
       "      <td>...</td>\n",
       "    </tr>\n",
       "    <tr>\n",
       "      <th>615</th>\n",
       "      <td>1828967</td>\n",
       "      <td>201.0</td>\n",
       "      <td>59.0</td>\n",
       "      <td>149.0</td>\n",
       "      <td>80.0</td>\n",
       "      <td>8766.0</td>\n",
       "      <td>0.0</td>\n",
       "      <td>4285</td>\n",
       "      <td>1.0</td>\n",
       "      <td>30.5</td>\n",
       "    </tr>\n",
       "    <tr>\n",
       "      <th>616</th>\n",
       "      <td>1829622</td>\n",
       "      <td>212.0</td>\n",
       "      <td>61.0</td>\n",
       "      <td>187.0</td>\n",
       "      <td>105.0</td>\n",
       "      <td>8766.0</td>\n",
       "      <td>0.0</td>\n",
       "      <td>4287</td>\n",
       "      <td>1.0</td>\n",
       "      <td>22.7</td>\n",
       "    </tr>\n",
       "    <tr>\n",
       "      <th>617</th>\n",
       "      <td>1831641</td>\n",
       "      <td>306.0</td>\n",
       "      <td>70.0</td>\n",
       "      <td>170.0</td>\n",
       "      <td>85.0</td>\n",
       "      <td>8766.0</td>\n",
       "      <td>0.0</td>\n",
       "      <td>4365</td>\n",
       "      <td>1.0</td>\n",
       "      <td>24.1</td>\n",
       "    </tr>\n",
       "    <tr>\n",
       "      <th>618</th>\n",
       "      <td>1833245</td>\n",
       "      <td>159.0</td>\n",
       "      <td>66.0</td>\n",
       "      <td>170.0</td>\n",
       "      <td>96.0</td>\n",
       "      <td>8766.0</td>\n",
       "      <td>18.0</td>\n",
       "      <td>4295</td>\n",
       "      <td>1.0</td>\n",
       "      <td>24.0</td>\n",
       "    </tr>\n",
       "    <tr>\n",
       "      <th>619</th>\n",
       "      <td>1662271</td>\n",
       "      <td>NaN</td>\n",
       "      <td>53.0</td>\n",
       "      <td>178.0</td>\n",
       "      <td>108.0</td>\n",
       "      <td>8766.0</td>\n",
       "      <td>40.0</td>\n",
       "      <td>4369</td>\n",
       "      <td>1.0</td>\n",
       "      <td>24.3</td>\n",
       "    </tr>\n",
       "  </tbody>\n",
       "</table>\n",
       "<p>620 rows × 10 columns</p>\n",
       "</div>"
      ],
      "text/plain": [
       "      RANDID  TOTCHOL   AGE  SYSBP  DIABP  TIMEMI  CIGPDAY  TIME  STROKE   BMI\n",
       "0       2448    196.0  52.0  100.0   62.0  6438.0      0.0  4628     2.0   NaN\n",
       "1       6238    223.0  58.0  122.0   75.0  8766.0      0.0  4344     2.0  28.5\n",
       "2      11252    232.0  58.0  131.0   70.0  8766.0      0.0  4285     2.0  24.6\n",
       "3      11263    216.0  55.0  140.0   70.0  8766.0      0.0  4351     1.0  31.2\n",
       "4      12806    208.0  57.0  127.0   75.0  8766.0      0.0  4289     2.0  22.0\n",
       "..       ...      ...   ...    ...    ...     ...      ...   ...     ...   ...\n",
       "615  1828967    201.0  59.0  149.0   80.0  8766.0      0.0  4285     1.0  30.5\n",
       "616  1829622    212.0  61.0  187.0  105.0  8766.0      0.0  4287     1.0  22.7\n",
       "617  1831641    306.0  70.0  170.0   85.0  8766.0      0.0  4365     1.0  24.1\n",
       "618  1833245    159.0  66.0  170.0   96.0  8766.0     18.0  4295     1.0  24.0\n",
       "619  1662271      NaN  53.0  178.0  108.0  8766.0     40.0  4369     1.0  24.3\n",
       "\n",
       "[620 rows x 10 columns]"
      ]
     },
     "execution_count": 162,
     "metadata": {},
     "output_type": "execute_result"
    }
   ],
   "source": [
    "#Loading data into pandas Dataframe\n",
    "\n",
    "data=pd.read_csv(\"Dataset_raw.csv\")\n",
    "data"
   ]
  },
  {
   "cell_type": "markdown",
   "metadata": {},
   "source": [
    "#  converting some numerical feature variables into categorical \n"
   ]
  },
  {
   "cell_type": "code",
   "execution_count": 164,
   "metadata": {},
   "outputs": [
    {
     "data": {
      "text/html": [
       "<div>\n",
       "<style scoped>\n",
       "    .dataframe tbody tr th:only-of-type {\n",
       "        vertical-align: middle;\n",
       "    }\n",
       "\n",
       "    .dataframe tbody tr th {\n",
       "        vertical-align: top;\n",
       "    }\n",
       "\n",
       "    .dataframe thead th {\n",
       "        text-align: right;\n",
       "    }\n",
       "</style>\n",
       "<table border=\"1\" class=\"dataframe\">\n",
       "  <thead>\n",
       "    <tr style=\"text-align: right;\">\n",
       "      <th></th>\n",
       "      <th>Cholesterol Level</th>\n",
       "      <th>AGE</th>\n",
       "      <th>Heartbeat pressure</th>\n",
       "      <th>Body Mass Index</th>\n",
       "      <th>Heartrelax pressure</th>\n",
       "      <th>CIGPDAY</th>\n",
       "      <th>Stroke possibility</th>\n",
       "    </tr>\n",
       "  </thead>\n",
       "  <tbody>\n",
       "    <tr>\n",
       "      <th>1</th>\n",
       "      <td>Borderline High</td>\n",
       "      <td>58.0</td>\n",
       "      <td>Normal</td>\n",
       "      <td>Over weight</td>\n",
       "      <td>Normal</td>\n",
       "      <td>0.0</td>\n",
       "      <td>High possibility</td>\n",
       "    </tr>\n",
       "    <tr>\n",
       "      <th>2</th>\n",
       "      <td>Borderline High</td>\n",
       "      <td>58.0</td>\n",
       "      <td>Normal</td>\n",
       "      <td>Healthy weight</td>\n",
       "      <td>Normal</td>\n",
       "      <td>0.0</td>\n",
       "      <td>High possibility</td>\n",
       "    </tr>\n",
       "    <tr>\n",
       "      <th>3</th>\n",
       "      <td>Borderline High</td>\n",
       "      <td>55.0</td>\n",
       "      <td>Normal</td>\n",
       "      <td>Over weight</td>\n",
       "      <td>Normal</td>\n",
       "      <td>0.0</td>\n",
       "      <td>Less possibility</td>\n",
       "    </tr>\n",
       "    <tr>\n",
       "      <th>4</th>\n",
       "      <td>Borderline High</td>\n",
       "      <td>57.0</td>\n",
       "      <td>Normal</td>\n",
       "      <td>Healthy weight</td>\n",
       "      <td>Normal</td>\n",
       "      <td>0.0</td>\n",
       "      <td>High possibility</td>\n",
       "    </tr>\n",
       "    <tr>\n",
       "      <th>5</th>\n",
       "      <td>Desirable</td>\n",
       "      <td>64.0</td>\n",
       "      <td>Borderline</td>\n",
       "      <td>Over weight</td>\n",
       "      <td>Normal</td>\n",
       "      <td>18.0</td>\n",
       "      <td>Less possibility</td>\n",
       "    </tr>\n",
       "    <tr>\n",
       "      <th>...</th>\n",
       "      <td>...</td>\n",
       "      <td>...</td>\n",
       "      <td>...</td>\n",
       "      <td>...</td>\n",
       "      <td>...</td>\n",
       "      <td>...</td>\n",
       "      <td>...</td>\n",
       "    </tr>\n",
       "    <tr>\n",
       "      <th>614</th>\n",
       "      <td>Desirable</td>\n",
       "      <td>53.0</td>\n",
       "      <td>Normal</td>\n",
       "      <td>Over weight</td>\n",
       "      <td>Normal</td>\n",
       "      <td>0.0</td>\n",
       "      <td>High possibility</td>\n",
       "    </tr>\n",
       "    <tr>\n",
       "      <th>615</th>\n",
       "      <td>Borderline High</td>\n",
       "      <td>59.0</td>\n",
       "      <td>Borderline</td>\n",
       "      <td>Over weight</td>\n",
       "      <td>Normal</td>\n",
       "      <td>0.0</td>\n",
       "      <td>Less possibility</td>\n",
       "    </tr>\n",
       "    <tr>\n",
       "      <th>616</th>\n",
       "      <td>Borderline High</td>\n",
       "      <td>61.0</td>\n",
       "      <td>Hypertension</td>\n",
       "      <td>Healthy weight</td>\n",
       "      <td>Hypertension</td>\n",
       "      <td>0.0</td>\n",
       "      <td>Less possibility</td>\n",
       "    </tr>\n",
       "    <tr>\n",
       "      <th>617</th>\n",
       "      <td>High</td>\n",
       "      <td>70.0</td>\n",
       "      <td>Hypertension</td>\n",
       "      <td>Healthy weight</td>\n",
       "      <td>Normal</td>\n",
       "      <td>0.0</td>\n",
       "      <td>Less possibility</td>\n",
       "    </tr>\n",
       "    <tr>\n",
       "      <th>618</th>\n",
       "      <td>Desirable</td>\n",
       "      <td>66.0</td>\n",
       "      <td>Hypertension</td>\n",
       "      <td>Healthy weight</td>\n",
       "      <td>Borderline</td>\n",
       "      <td>18.0</td>\n",
       "      <td>Less possibility</td>\n",
       "    </tr>\n",
       "  </tbody>\n",
       "</table>\n",
       "<p>596 rows × 7 columns</p>\n",
       "</div>"
      ],
      "text/plain": [
       "    Cholesterol Level   AGE Heartbeat pressure Body Mass Index   \\\n",
       "1     Borderline High  58.0             Normal      Over weight   \n",
       "2     Borderline High  58.0             Normal   Healthy weight   \n",
       "3     Borderline High  55.0             Normal      Over weight   \n",
       "4     Borderline High  57.0             Normal   Healthy weight   \n",
       "5           Desirable  64.0         Borderline      Over weight   \n",
       "..                ...   ...                ...              ...   \n",
       "614         Desirable  53.0             Normal      Over weight   \n",
       "615   Borderline High  59.0         Borderline      Over weight   \n",
       "616   Borderline High  61.0       Hypertension   Healthy weight   \n",
       "617              High  70.0       Hypertension   Healthy weight   \n",
       "618         Desirable  66.0       Hypertension   Healthy weight   \n",
       "\n",
       "    Heartrelax pressure  CIGPDAY Stroke possibility  \n",
       "1                Normal      0.0   High possibility  \n",
       "2                Normal      0.0   High possibility  \n",
       "3                Normal      0.0   Less possibility  \n",
       "4                Normal      0.0   High possibility  \n",
       "5                Normal     18.0   Less possibility  \n",
       "..                  ...      ...                ...  \n",
       "614              Normal      0.0   High possibility  \n",
       "615              Normal      0.0   Less possibility  \n",
       "616        Hypertension      0.0   Less possibility  \n",
       "617              Normal      0.0   Less possibility  \n",
       "618          Borderline     18.0   Less possibility  \n",
       "\n",
       "[596 rows x 7 columns]"
      ]
     },
     "execution_count": 164,
     "metadata": {},
     "output_type": "execute_result"
    }
   ],
   "source": [
    "def preprocess_input(df):\n",
    "    df=df.copy()\n",
    "     #Drop An identification number for each patient,TIME and Time of first angina/spasm columns\n",
    "    df=df.drop('RANDID', axis=1)\n",
    "    df=df.drop('TIMEMI', axis=1)\n",
    "    df=df.drop('TIME', axis=1)\n",
    "    \n",
    "    #Removing NaN values\n",
    "    df.dropna(how='any',inplace=True)\n",
    "    \n",
    "    #Converting numerical feature variables into categorical \n",
    "    \n",
    "    category = pd.cut(df.STROKE,bins=[0,1,2],labels=['Less possibility','High possibility'])\n",
    "    df.insert(6,'Stroke possibility',category)\n",
    "    df=df.drop('STROKE', axis=1)\n",
    "\n",
    "    category = pd.cut(df.TOTCHOL,bins=[0,200,239,390],labels=['Desirable','Borderline High','High'])\n",
    "    df.insert(1,'Cholesterol Level',category)\n",
    "    df=df.drop('TOTCHOL', axis=1)\n",
    "    \n",
    "    category = pd.cut(df.BMI,bins=[0,17,25,40,100],labels=['Under Weight','Healthy weight','Over weight','Obese'])\n",
    "    df.insert(4,'Body Mass Index ',category)\n",
    "    df=df.drop('BMI', axis=1)\n",
    "    \n",
    "\n",
    "    category = pd.cut(df.SYSBP,bins=[0,140,160,300],labels=['Normal','Borderline','Hypertension'])\n",
    "    df.insert(2,'Heartbeat pressure',category)\n",
    "    df=df.drop('SYSBP', axis=1)\n",
    "\n",
    "    category = pd.cut(df.DIABP,bins=[0,90,100,150],labels=['Normal','Borderline','Hypertension'])\n",
    "    df.insert(5,'Heartrelax pressure',category)\n",
    "    df=df.drop('DIABP', axis=1)\n",
    "    \n",
    "#     df['CIGPDAY'].replace({'Non-Smoker':0})\n",
    "#     category = pd.cut(df.CIGPDAY,bins=[0,1,9,19,80],labels=['Non-Smoker','1-9 Cig/day','10-19 Cig/day','>20 cig/day'])\n",
    "#     df.insert(3,'Smoking Category',category)\n",
    "#     df=df.drop('CIGPDAY', axis=1)\n",
    "    \n",
    "    return df\n",
    "\n",
    "categorical_features=preprocess_input(data)\n",
    "categorical_features"
   ]
  },
  {
   "cell_type": "code",
   "execution_count": 165,
   "metadata": {},
   "outputs": [
    {
     "data": {
      "text/plain": [
       "array([ 0., 18., 30., 20.,  3., 10., 40.,  5.,  4.,  1., 15.,  6., 16.,\n",
       "       25., 12.,  8.,  7., 35.,  9.,  2.])"
      ]
     },
     "execution_count": 165,
     "metadata": {},
     "output_type": "execute_result"
    }
   ],
   "source": [
    "categorical_features['CIGPDAY'].unique()"
   ]
  },
  {
   "cell_type": "code",
   "execution_count": 166,
   "metadata": {},
   "outputs": [],
   "source": [
    "data.dropna(how='any',inplace=True)"
   ]
  },
  {
   "cell_type": "markdown",
   "metadata": {},
   "source": [
    "# Feature selection"
   ]
  },
  {
   "cell_type": "code",
   "execution_count": 167,
   "metadata": {},
   "outputs": [],
   "source": [
    "#Spilt df into X and Y\n",
    "y=data['STROKE'] # y will be our target\n",
    "x=data.drop('STROKE',axis=1) # x will be our features\n",
    "\n",
    "#Train-test spilt\n",
    "x_train, x_test, y_train, y_test= train_test_split(x,y, train_size=0.3, random_state=0)"
   ]
  },
  {
   "cell_type": "code",
   "execution_count": 168,
   "metadata": {},
   "outputs": [
    {
     "data": {
      "image/png": "[encoded data removed]",
      "text/plain": [
       "<Figure size 1080x864 with 2 Axes>"
      ]
     },
     "metadata": {
      "needs_background": "light"
     },
     "output_type": "display_data"
    }
   ],
   "source": [
    "#Using Pearson Correlation\n",
    "import seaborn as sns\n",
    "plt.figure(figsize=(15,12))\n",
    "cor = x_train.corr()\n",
    "sns.heatmap(cor, annot=True, cmap=plt.cm.BrBG_r)\n",
    "plt.show()"
   ]
  },
  {
   "cell_type": "code",
   "execution_count": 169,
   "metadata": {},
   "outputs": [],
   "source": [
    "# Creating a correlation function, with we can select highly correlated features and \n",
    "# It will remove the first feature that is coorealted with anyother feature\n",
    "\n",
    "def correlation(data, threshold):\n",
    "    col_corr=set() # set all the names of correlated columns\n",
    "    corr_matrix= data.corr()\n",
    "    for i in range(len(corr_matrix.columns)):\n",
    "        for j in range(i):\n",
    "            if (corr_matrix.iloc[i,j])> threshold:\n",
    "                colname=corr_matrix.columns[i] # getting the name of column\n",
    "                col_corr.add(colname)\n",
    "                \n",
    "        return col_corr        "
   ]
  },
  {
   "cell_type": "code",
   "execution_count": 170,
   "metadata": {},
   "outputs": [
    {
     "data": {
      "text/plain": [
       "0"
      ]
     },
     "execution_count": 170,
     "metadata": {},
     "output_type": "execute_result"
    }
   ],
   "source": [
    "corr_features= correlation(x_train, 0.4)\n",
    "len(set(corr_features))\n"
   ]
  },
  {
   "cell_type": "code",
   "execution_count": 171,
   "metadata": {},
   "outputs": [
    {
     "data": {
      "text/plain": [
       "set()"
      ]
     },
     "execution_count": 171,
     "metadata": {},
     "output_type": "execute_result"
    }
   ],
   "source": [
    "corr_features"
   ]
  },
  {
   "cell_type": "code",
   "execution_count": 172,
   "metadata": {},
   "outputs": [
    {
     "data": {
      "text/html": [
       "<div>\n",
       "<style scoped>\n",
       "    .dataframe tbody tr th:only-of-type {\n",
       "        vertical-align: middle;\n",
       "    }\n",
       "\n",
       "    .dataframe tbody tr th {\n",
       "        vertical-align: top;\n",
       "    }\n",
       "\n",
       "    .dataframe thead th {\n",
       "        text-align: right;\n",
       "    }\n",
       "</style>\n",
       "<table border=\"1\" class=\"dataframe\">\n",
       "  <thead>\n",
       "    <tr style=\"text-align: right;\">\n",
       "      <th></th>\n",
       "      <th>RANDID</th>\n",
       "      <th>TOTCHOL</th>\n",
       "      <th>AGE</th>\n",
       "      <th>SYSBP</th>\n",
       "      <th>DIABP</th>\n",
       "      <th>TIMEMI</th>\n",
       "      <th>CIGPDAY</th>\n",
       "      <th>TIME</th>\n",
       "      <th>BMI</th>\n",
       "    </tr>\n",
       "  </thead>\n",
       "  <tbody>\n",
       "    <tr>\n",
       "      <th>418</th>\n",
       "      <td>1252452</td>\n",
       "      <td>195.0</td>\n",
       "      <td>49.0</td>\n",
       "      <td>104.0</td>\n",
       "      <td>69.0</td>\n",
       "      <td>8766.0</td>\n",
       "      <td>0.0</td>\n",
       "      <td>4350</td>\n",
       "      <td>26.4</td>\n",
       "    </tr>\n",
       "    <tr>\n",
       "      <th>136</th>\n",
       "      <td>459386</td>\n",
       "      <td>300.0</td>\n",
       "      <td>54.0</td>\n",
       "      <td>160.0</td>\n",
       "      <td>70.0</td>\n",
       "      <td>7163.0</td>\n",
       "      <td>0.0</td>\n",
       "      <td>4295</td>\n",
       "      <td>27.4</td>\n",
       "    </tr>\n",
       "    <tr>\n",
       "      <th>216</th>\n",
       "      <td>688490</td>\n",
       "      <td>232.0</td>\n",
       "      <td>48.0</td>\n",
       "      <td>161.0</td>\n",
       "      <td>78.0</td>\n",
       "      <td>8766.0</td>\n",
       "      <td>0.0</td>\n",
       "      <td>4450</td>\n",
       "      <td>26.1</td>\n",
       "    </tr>\n",
       "    <tr>\n",
       "      <th>249</th>\n",
       "      <td>779250</td>\n",
       "      <td>239.0</td>\n",
       "      <td>67.0</td>\n",
       "      <td>148.0</td>\n",
       "      <td>80.0</td>\n",
       "      <td>8766.0</td>\n",
       "      <td>0.0</td>\n",
       "      <td>4321</td>\n",
       "      <td>25.6</td>\n",
       "    </tr>\n",
       "    <tr>\n",
       "      <th>87</th>\n",
       "      <td>272194</td>\n",
       "      <td>190.0</td>\n",
       "      <td>76.0</td>\n",
       "      <td>120.0</td>\n",
       "      <td>74.0</td>\n",
       "      <td>7796.0</td>\n",
       "      <td>0.0</td>\n",
       "      <td>4387</td>\n",
       "      <td>22.0</td>\n",
       "    </tr>\n",
       "    <tr>\n",
       "      <th>...</th>\n",
       "      <td>...</td>\n",
       "      <td>...</td>\n",
       "      <td>...</td>\n",
       "      <td>...</td>\n",
       "      <td>...</td>\n",
       "      <td>...</td>\n",
       "      <td>...</td>\n",
       "      <td>...</td>\n",
       "      <td>...</td>\n",
       "    </tr>\n",
       "    <tr>\n",
       "      <th>209</th>\n",
       "      <td>669084</td>\n",
       "      <td>226.0</td>\n",
       "      <td>71.0</td>\n",
       "      <td>129.0</td>\n",
       "      <td>78.0</td>\n",
       "      <td>8766.0</td>\n",
       "      <td>0.0</td>\n",
       "      <td>4308</td>\n",
       "      <td>25.0</td>\n",
       "    </tr>\n",
       "    <tr>\n",
       "      <th>240</th>\n",
       "      <td>767169</td>\n",
       "      <td>164.0</td>\n",
       "      <td>65.0</td>\n",
       "      <td>146.0</td>\n",
       "      <td>71.0</td>\n",
       "      <td>8766.0</td>\n",
       "      <td>0.0</td>\n",
       "      <td>4352</td>\n",
       "      <td>26.6</td>\n",
       "    </tr>\n",
       "    <tr>\n",
       "      <th>266</th>\n",
       "      <td>813079</td>\n",
       "      <td>226.0</td>\n",
       "      <td>62.0</td>\n",
       "      <td>146.0</td>\n",
       "      <td>77.0</td>\n",
       "      <td>5793.0</td>\n",
       "      <td>0.0</td>\n",
       "      <td>4306</td>\n",
       "      <td>27.8</td>\n",
       "    </tr>\n",
       "    <tr>\n",
       "      <th>68</th>\n",
       "      <td>207401</td>\n",
       "      <td>269.0</td>\n",
       "      <td>66.0</td>\n",
       "      <td>160.0</td>\n",
       "      <td>82.0</td>\n",
       "      <td>5496.0</td>\n",
       "      <td>0.0</td>\n",
       "      <td>4508</td>\n",
       "      <td>16.8</td>\n",
       "    </tr>\n",
       "    <tr>\n",
       "      <th>25</th>\n",
       "      <td>82188</td>\n",
       "      <td>246.0</td>\n",
       "      <td>49.0</td>\n",
       "      <td>173.0</td>\n",
       "      <td>90.0</td>\n",
       "      <td>8766.0</td>\n",
       "      <td>0.0</td>\n",
       "      <td>4303</td>\n",
       "      <td>45.4</td>\n",
       "    </tr>\n",
       "  </tbody>\n",
       "</table>\n",
       "<p>418 rows × 9 columns</p>\n",
       "</div>"
      ],
      "text/plain": [
       "      RANDID  TOTCHOL   AGE  SYSBP  DIABP  TIMEMI  CIGPDAY  TIME   BMI\n",
       "418  1252452    195.0  49.0  104.0   69.0  8766.0      0.0  4350  26.4\n",
       "136   459386    300.0  54.0  160.0   70.0  7163.0      0.0  4295  27.4\n",
       "216   688490    232.0  48.0  161.0   78.0  8766.0      0.0  4450  26.1\n",
       "249   779250    239.0  67.0  148.0   80.0  8766.0      0.0  4321  25.6\n",
       "87    272194    190.0  76.0  120.0   74.0  7796.0      0.0  4387  22.0\n",
       "..       ...      ...   ...    ...    ...     ...      ...   ...   ...\n",
       "209   669084    226.0  71.0  129.0   78.0  8766.0      0.0  4308  25.0\n",
       "240   767169    164.0  65.0  146.0   71.0  8766.0      0.0  4352  26.6\n",
       "266   813079    226.0  62.0  146.0   77.0  5793.0      0.0  4306  27.8\n",
       "68    207401    269.0  66.0  160.0   82.0  5496.0      0.0  4508  16.8\n",
       "25     82188    246.0  49.0  173.0   90.0  8766.0      0.0  4303  45.4\n",
       "\n",
       "[418 rows x 9 columns]"
      ]
     },
     "execution_count": 172,
     "metadata": {},
     "output_type": "execute_result"
    }
   ],
   "source": [
    "x_train.drop(corr_features,axis=1)\n",
    "x_test.drop(corr_features,axis=1)"
   ]
  },
  {
   "cell_type": "code",
   "execution_count": 173,
   "metadata": {},
   "outputs": [],
   "source": [
    "# def preprocess_input(df):\n",
    "#     df=df.copy()\n",
    "    \n",
    "#     #Drop An identification number for each patient,TIME and Time of first angina/spasm columns\n",
    "#     df=df.drop('RANDID', axis=1)\n",
    "#     df=df.drop('TIMEMI', axis=1)\n",
    "#     df=df.drop('TIME', axis=1)\n",
    "    \n",
    "#     df.dropna(how='any',inplace=True)\n",
    "#     return df\n",
    "\n",
    "# x_data=preprocess_input(data)\n",
    "# x_data"
   ]
  },
  {
   "cell_type": "code",
   "execution_count": 174,
   "metadata": {},
   "outputs": [
    {
     "data": {
      "text/plain": [
       "0    1.00565\n",
       "1    1.00565\n",
       "2    1.00565\n",
       "3    1.00565\n",
       "4    1.00565\n",
       "5    1.00565\n",
       "6    1.00565\n",
       "7    1.00565\n",
       "8    1.00565\n",
       "dtype: float64"
      ]
     },
     "execution_count": 174,
     "metadata": {},
     "output_type": "execute_result"
    }
   ],
   "source": [
    "#Scalling\n",
    "scaler= StandardScaler()\n",
    "scaler.fit(x_train)\n",
    "x_train=pd.DataFrame(scaler.transform(x_train))\n",
    "x_test=pd.DataFrame(scaler.transform(x_test))\n",
    "\n",
    "x_train.var()"
   ]
  },
  {
   "cell_type": "markdown",
   "metadata": {},
   "source": [
    "# Training models"
   ]
  },
  {
   "cell_type": "code",
   "execution_count": 175,
   "metadata": {},
   "outputs": [
    {
     "name": "stdout",
     "output_type": "stream",
     "text": [
      "LogisticRegression Trained\n",
      "RandomForest Trained\n",
      "NeuralNetwork Trained\n",
      "DecisionTree Trained\n",
      "Support Vector Machine (Linear kernel) Trained\n",
      "Support Vector machine (RBF Kernel) Trained\n",
      "K-Nearest Neighbors Trained\n",
      "Gradient Boosting Trained\n"
     ]
    }
   ],
   "source": [
    "models={\n",
    "    \"LogisticRegression\"                  :LogisticRegression(),\n",
    "    \"RandomForest\"                        :RandomForestClassifier(),\n",
    "    \"NeuralNetwork\"                       :MLPClassifier(),\n",
    "    \"DecisionTree\"                        :DecisionTreeClassifier(),\n",
    "    \"Support Vector Machine (Linear kernel)\":LinearSVC(),\n",
    "    \"Support Vector machine (RBF Kernel)\"  :SVC(),\n",
    "    \"K-Nearest Neighbors\"                  :KNeighborsClassifier(),\n",
    "    \"Gradient Boosting\"                    :GradientBoostingClassifier()\n",
    "    \n",
    "}\n",
    "\n",
    "for name, model in models.items():\n",
    "    model.fit(x_train,y_train)\n",
    "    print(name+ \" Trained\")"
   ]
  },
  {
   "cell_type": "markdown",
   "metadata": {},
   "source": [
    "# Model Performance"
   ]
  },
  {
   "cell_type": "code",
   "execution_count": 176,
   "metadata": {},
   "outputs": [
    {
     "name": "stdout",
     "output_type": "stream",
     "text": [
      "\n",
      "LogisticRegression Accuracy: 87.321%\n",
      "\t\t\t F1-Score: 0.87646\n",
      "\n",
      "RandomForest Accuracy: 90.431%\n",
      "\t\t\t F1-Score: 0.90698\n",
      "\n",
      "NeuralNetwork Accuracy: 87.560%\n",
      "\t\t\t F1-Score: 0.87850\n",
      "\n",
      "DecisionTree Accuracy: 81.340%\n",
      "\t\t\t F1-Score: 0.82743\n",
      "\n",
      "Support Vector Machine (Linear kernel) Accuracy: 87.321%\n",
      "\t\t\t F1-Score: 0.87760\n",
      "\n",
      "Support Vector machine (RBF Kernel) Accuracy: 87.081%\n",
      "\t\t\t F1-Score: 0.87019\n",
      "\n",
      "K-Nearest Neighbors Accuracy: 81.579%\n",
      "\t\t\t F1-Score: 0.79790\n",
      "\n",
      "Gradient Boosting Accuracy: 90.191%\n",
      "\t\t\t F1-Score: 0.90531\n"
     ]
    }
   ],
   "source": [
    "# print(\"Model performance\\n---------------------\")\n",
    "for name, model in models.items():\n",
    "    y_pred=model.predict(x_test)\n",
    "    print( \n",
    "        \"\\n\"+ name + \" Accuracy: {:.3f}%\\n\\t\\t\\t F1-Score: {:.5f}\"\\\n",
    "        .format(accuracy_score(y_test,y_pred)*100, f1_score(y_test, y_pred))\n",
    "    )\n",
    "\n",
    "# print(\"Model performance\\n---------------------\")\n",
    "# for name, model in models.items():\n",
    "#     y_pred=model.predict(x_test)\n",
    "#     print(name+ \" Accuracy\".format(accuracy_score(y_test,y_pred,  f1_score(y_test, y_pred)))\n",
    "#     #print(name+ \"F1-Score\"+ f1_score(y_test, y_pred))"
   ]
  },
  {
   "cell_type": "markdown",
   "metadata": {},
   "source": [
    "# Ensemble learning"
   ]
  },
  {
   "cell_type": "markdown",
   "metadata": {},
   "source": [
    "# Bagging Classifier "
   ]
  },
  {
   "cell_type": "code",
   "execution_count": 177,
   "metadata": {},
   "outputs": [
    {
     "data": {
      "text/plain": [
       "BaggingClassifier(base_estimator=RandomForestClassifier(bootstrap=True,\n",
       "                                                        ccp_alpha=0.0,\n",
       "                                                        class_weight=None,\n",
       "                                                        criterion='gini',\n",
       "                                                        max_depth=None,\n",
       "                                                        max_features='auto',\n",
       "                                                        max_leaf_nodes=None,\n",
       "                                                        max_samples=None,\n",
       "                                                        min_impurity_decrease=0.0,\n",
       "                                                        min_impurity_split=None,\n",
       "                                                        min_samples_leaf=1,\n",
       "                                                        min_samples_split=2,\n",
       "                                                        min_weight_fraction_leaf=0.0,\n",
       "                                                        n_estimators=100,\n",
       "                                                        n_jobs=None,\n",
       "                                                        oob_score=False,\n",
       "                                                        random_state=None,\n",
       "                                                        verbose=0,\n",
       "                                                        warm_start=False),\n",
       "                  bootstrap=True, bootstrap_features=False, max_features=1.0,\n",
       "                  max_samples=0.5, n_estimators=20, n_jobs=None,\n",
       "                  oob_score=False, random_state=None, verbose=0,\n",
       "                  warm_start=False)"
      ]
     },
     "execution_count": 177,
     "metadata": {},
     "output_type": "execute_result"
    }
   ],
   "source": [
    "#Bragging (Bootstrap aggregation)\n",
    "\n",
    "# creating bragging classifer with models\n",
    "bg = BaggingClassifier (RandomForestClassifier(), max_samples=0.5, max_features=1.0, n_estimators= 20) \n",
    "bg.fit(x_test,y_test)\n"
   ]
  },
  {
   "cell_type": "code",
   "execution_count": 178,
   "metadata": {},
   "outputs": [
    {
     "data": {
      "text/plain": [
       "0.9497607655502392"
      ]
     },
     "execution_count": 178,
     "metadata": {},
     "output_type": "execute_result"
    }
   ],
   "source": [
    "bg.score(x_test,y_test)"
   ]
  },
  {
   "cell_type": "code",
   "execution_count": 179,
   "metadata": {},
   "outputs": [
    {
     "data": {
      "text/plain": [
       "0.9101123595505618"
      ]
     },
     "execution_count": 179,
     "metadata": {},
     "output_type": "execute_result"
    }
   ],
   "source": [
    "bg.score(x_train,y_train)"
   ]
  },
  {
   "cell_type": "markdown",
   "metadata": {},
   "source": [
    "# Boosting classifier"
   ]
  },
  {
   "cell_type": "code",
   "execution_count": 180,
   "metadata": {},
   "outputs": [
    {
     "data": {
      "text/plain": [
       "AdaBoostClassifier(algorithm='SAMME.R',\n",
       "                   base_estimator=DecisionTreeClassifier(ccp_alpha=0.0,\n",
       "                                                         class_weight=None,\n",
       "                                                         criterion='gini',\n",
       "                                                         max_depth=None,\n",
       "                                                         max_features=None,\n",
       "                                                         max_leaf_nodes=None,\n",
       "                                                         min_impurity_decrease=0.0,\n",
       "                                                         min_impurity_split=None,\n",
       "                                                         min_samples_leaf=1,\n",
       "                                                         min_samples_split=2,\n",
       "                                                         min_weight_fraction_leaf=0.0,\n",
       "                                                         presort='deprecated',\n",
       "                                                         random_state=None,\n",
       "                                                         splitter='best'),\n",
       "                   learning_rate=1, n_estimators=10, random_state=None)"
      ]
     },
     "execution_count": 180,
     "metadata": {},
     "output_type": "execute_result"
    }
   ],
   "source": [
    "#Boosting \n",
    "# using Ada Boost\n",
    "ada = AdaBoostClassifier(DecisionTreeClassifier(), n_estimators= 10, learning_rate=1)\n",
    "ada.fit(x_train,y_train)"
   ]
  },
  {
   "cell_type": "code",
   "execution_count": 181,
   "metadata": {},
   "outputs": [
    {
     "data": {
      "text/plain": [
       "0.80622009569378"
      ]
     },
     "execution_count": 181,
     "metadata": {},
     "output_type": "execute_result"
    }
   ],
   "source": [
    "ada.score(x_test,y_test)"
   ]
  },
  {
   "cell_type": "markdown",
   "metadata": {},
   "source": [
    "    It is same as Random forrest model accuracy, we can find out if our model is over fitting since the score on training dataset is 100% , the model did not find any point in our data where there was error and stopped the process, so we get the same 90% accuracy as of Random Forrest model but if we choose a classifer which does not overfit data like Decision Tree does boosting can well boost the accuracy of our model by a great factor and if we see Bagging hasn't overfitted the model if we see training dataset score, so we can say boosting help us in reducing the overfitting of the model, so we can implement ensemble model to have multiple ML models, so this can be done through voting classifier."
   ]
  },
  {
   "cell_type": "code",
   "execution_count": 182,
   "metadata": {},
   "outputs": [
    {
     "data": {
      "text/plain": [
       "1.0"
      ]
     },
     "execution_count": 182,
     "metadata": {},
     "output_type": "execute_result"
    }
   ],
   "source": [
    "ada.score(x_train,y_train)"
   ]
  },
  {
   "cell_type": "code",
   "execution_count": 189,
   "metadata": {},
   "outputs": [],
   "source": [
    "# # Voting classifer ( Also known as Stacking)\n",
    "# # we are choosing models with high accuracy for voting\n",
    "# vc = VotingClassifier(estimators=[('lr',LogisticRegression),('tr',DecisionTreeClassifier),('ne',MLPClassifier)],voting='hard')\n",
    "# vc.fit(x_train.iloc[1:4000],y_train.iloc[1:4000]) # reducing size of data and train it as it took a lot of time to compute\n",
    "# #vc.fit(x_train,y_train)\n",
    "# vc.score(x_test,y_test)"
   ]
  },
  {
   "cell_type": "markdown",
   "metadata": {},
   "source": [
    "# voting classifier"
   ]
  },
  {
   "cell_type": "code",
   "execution_count": 196,
   "metadata": {},
   "outputs": [
    {
     "name": "stdout",
     "output_type": "stream",
     "text": [
      "5-fold cross validation:\n",
      "\n",
      "Accuracy :0.82 (+/- 0.04) [Logistic Regression]\n",
      "Accuracy :0.91 (+/- 0.02) [Random Forest]\n",
      "Accuracy :0.87 (+/- 0.03) [Decision Tree]\n"
     ]
    }
   ],
   "source": [
    "# Also known as Stacking\n",
    "\n",
    "clf1=LogisticRegression(random_state=1)\n",
    "clf2=RandomForestClassifier(random_state=1)\n",
    "clf3=DecisionTreeClassifier()\n",
    "\n",
    "print('5-fold cross validation:\\n')\n",
    "\n",
    "labels = ['Logistic Regression','Random Forest','Decision Tree']\n",
    "\n",
    "for clf, label in zip([clf1, clf2, clf3], labels):\n",
    "    \n",
    "    scores= model_selection.cross_val_score(clf,x,y,cv=5,scoring='accuracy')\n",
    "    \n",
    "    print(\"Accuracy :%0.2f (+/- %0.2f) [%s]\"\n",
    "          \n",
    "         %(scores.mean(),scores.std(),label))\n",
    "    "
   ]
  },
  {
   "cell_type": "code",
   "execution_count": 197,
   "metadata": {},
   "outputs": [],
   "source": [
    "#Creating voting class for hard voting\n",
    "voting_hard=VotingClassifier(estimators=[(labels[0], clf1), (labels[1], clf2), (labels[2], clf3)], voting='hard')"
   ]
  },
  {
   "cell_type": "code",
   "execution_count": 198,
   "metadata": {},
   "outputs": [],
   "source": [
    "#Creating voting class for soft voting\n",
    "voting_soft=VotingClassifier(estimators=[(labels[0], clf1), (labels[1], clf2), (labels[2], clf3)], voting='soft')"
   ]
  },
  {
   "cell_type": "markdown",
   "metadata": {},
   "source": [
    "Diffrence between hard and soft voting is,hard voting is consider the class output and then takes the majority, where as soft voting takes the probality score and then avarges out the probalities.\n",
    "a value above threshold is classifed as one and value below threshold of probability score is classifed as zero."
   ]
  },
  {
   "cell_type": "code",
   "execution_count": 200,
   "metadata": {},
   "outputs": [
    {
     "name": "stdout",
     "output_type": "stream",
     "text": [
      "Accuracy: 0.82 (+/- 0.04) [Logistic Regression]\n",
      "Accuracy: 0.91 (+/- 0.02) [Random Forest]\n",
      "Accuracy: 0.86 (+/- 0.03) [Decision Tree]\n",
      "Accuracy: 0.90 (+/- 0.03) [voting_hard]\n",
      "Accuracy: 0.89 (+/- 0.04) [voting_soft]\n"
     ]
    }
   ],
   "source": [
    "#creating list of lables \n",
    "new_labels= ['Logistic Regression','Random Forest','Decision Tree','voting_hard', 'voting_soft']\n",
    "\n",
    "for (clf,label) in zip([clf1, clf2, clf3, voting_hard, voting_soft],new_labels):\n",
    "    \n",
    "    scores= model_selection.cross_val_score(clf,x,y,cv=5, scoring='accuracy')\n",
    "    \n",
    "    print(\"Accuracy: %0.2f (+/- %0.2f) [%s]\"\n",
    "         % (scores.mean(), scores.std(), label))"
   ]
  },
  {
   "cell_type": "markdown",
   "metadata": {},
   "source": [
    "I find that my voting classifer hard and soft individually have an accuracy around 90% as compared to 82,91 and 86.\n",
    "So here we can see weak learners which are individual classifers such as Logistic, Random forest and Decision tree, i could increse my accuracy by using  voting classifer to create a more robust and an accurate classifer."
   ]
  }
 ],
 "metadata": {
  "kernelspec": {
   "display_name": "Python 3",
   "language": "python",
   "name": "python3"
  },
  "language_info": {
   "codemirror_mode": {
    "name": "ipython",
    "version": 3
   },
   "file_extension": ".py",
   "mimetype": "text/x-python",
   "name": "python",
   "nbconvert_exporter": "python",
   "pygments_lexer": "ipython3",
   "version": "3.7.6"
  }
 },
 "nbformat": 4,
 "nbformat_minor": 4
}

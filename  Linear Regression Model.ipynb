{
 "cells": [
  {
   "cell_type": "markdown",
   "metadata": {},
   "source": [
    "# Linear Regression Model"
   ]
  },
  {
   "cell_type": "markdown",
   "metadata": {},
   "source": [
    "In this notebook, I will be applying algorithms from the first family of machine learning \n",
    "techniques that is supervised learning. The aim of this notebook is to showcase my ability \n",
    "to apply machine learning algorithms to well-specified tasks and to evaluate the performance of \n",
    "these algorithms and to use this evaluation to improve performance."
   ]
  },
  {
   "cell_type": "markdown",
   "metadata": {},
   "source": [
    "The data provided has 100 pairs of values, the values in the first column are explanatory values/observations. The values in the second column are the corresponding response variable values\n",
    "\n",
    "The task of this notebook is to, \n",
    "\n",
    "1st Using Python, apply least squares regression to fit a line to the data. Plot the data and the fitted \n",
    "line on the same axes.\n",
    "\n",
    "2nd Calculate the coefficient of determination (the 𝑅2score) of your prediction and print it."
   ]
  },
  {
   "cell_type": "code",
   "execution_count": 181,
   "metadata": {},
   "outputs": [],
   "source": [
    "import numpy as np \n",
    "import pandas as pd \n",
    "import matplotlib.pyplot as plt \n",
    "from sklearn.linear_model import LinearRegression"
   ]
  },
  {
   "cell_type": "markdown",
   "metadata": {},
   "source": [
    "The 1st & 2nd lines are importing Numpy & pandas libraries, np & pd allows me to reference it back to libraries,so that i don't need to write these libraries names again and again into further code.\n",
    "\n",
    "The 3rd line imports a submodule pyplot of the module matplotlib and plt for referencing\n",
    "The 4th line importing linear_model,which is a submodule of the sklearn module and from there importing LinearRegression function."
   ]
  },
  {
   "cell_type": "markdown",
   "metadata": {},
   "source": [
    "Here loading csv file into df varaible, to read that particular csv file"
   ]
  },
  {
   "cell_type": "code",
   "execution_count": 182,
   "metadata": {},
   "outputs": [],
   "source": [
    "df=pd.read_csv('regression1.csv')\n"
   ]
  },
  {
   "cell_type": "markdown",
   "metadata": {},
   "source": [
    "Here I'M reshaping the data into 2-D array and using X & Y varaibles to store csv file data for further operations."
   ]
  },
  {
   "cell_type": "code",
   "execution_count": 183,
   "metadata": {},
   "outputs": [],
   "source": [
    "X = df.iloc[:,0].values.reshape(-1,1)\n",
    "Y=df['y']\n"
   ]
  },
  {
   "cell_type": "markdown",
   "metadata": {},
   "source": [
    "I'M using reg varaible to store LinearRegression() class and after that I'M using fit method for fitting the X and Y values on x & Y axis. After that I have created y_pred variable which will predict linear regression relationship with X-axis."
   ]
  },
  {
   "cell_type": "code",
   "execution_count": 184,
   "metadata": {},
   "outputs": [],
   "source": [
    "reg = LinearRegression()\n",
    "reg.fit(X,Y)\n",
    "y_pred = reg.predict(X)"
   ]
  },
  {
   "cell_type": "markdown",
   "metadata": {},
   "source": [
    "This step creat scatter plot using my X, Y and y prediction values"
   ]
  },
  {
   "cell_type": "code",
   "execution_count": 185,
   "metadata": {},
   "outputs": [
    {
     "data": {
      "text/plain": [
       "[<matplotlib.lines.Line2D at 0x21895f82c88>]"
      ]
     },
     "execution_count": 185,
     "metadata": {},
     "output_type": "execute_result"
    },
    {
     "data": {
      "image/png": "[encoded data removed]",
      "text/plain": [
       "<Figure size 432x288 with 1 Axes>"
      ]
     },
     "metadata": {
      "needs_background": "light"
     },
     "output_type": "display_data"
    }
   ],
   "source": [
    "plt.scatter(X, Y,  color='red')\n",
    "plt.plot(X, y_pred, color='blue', linewidth=1)"
   ]
  },
  {
   "cell_type": "markdown",
   "metadata": {},
   "source": [
    "Now I want to spilt my data into traing and testing, for that I'M importing train_test_split class from  sklearn.model_selection.\n",
    "Then IM creating X_train, X_test, y_train, y_test varaibles and IM spilting training & testing data into 30/70\n"
   ]
  },
  {
   "cell_type": "code",
   "execution_count": 186,
   "metadata": {},
   "outputs": [
    {
     "data": {
      "text/plain": [
       "LinearRegression(copy_X=True, fit_intercept=True, n_jobs=None, normalize=False)"
      ]
     },
     "execution_count": 186,
     "metadata": {},
     "output_type": "execute_result"
    }
   ],
   "source": [
    "from sklearn.model_selection import train_test_split\n",
    "\n",
    "X_train, X_test, y_train, y_test = train_test_split(X,Y, test_size=0.33,random_state=42)\n",
    "reg_train = LinearRegression()\n",
    "reg_train.fit(X_train, y_train)"
   ]
  },
  {
   "cell_type": "markdown",
   "metadata": {},
   "source": [
    "To calculate MSE IM importing  mean_squared_error class from sklearn.metrics"
   ]
  },
  {
   "cell_type": "code",
   "execution_count": 187,
   "metadata": {},
   "outputs": [],
   "source": [
    "from sklearn.metrics import mean_squared_error"
   ]
  },
  {
   "cell_type": "code",
   "execution_count": 188,
   "metadata": {},
   "outputs": [],
   "source": [
    "def display_results(X_test,y_test,reg):\n",
    "    plt.scatter(X_test, y_test,  color='red')\n",
    "    plt.plot(X_test, reg.predict(X_test), color='blue', linewidth=1)\n",
    "    plt.show()"
   ]
  },
  {
   "cell_type": "code",
   "execution_count": 189,
   "metadata": {},
   "outputs": [
    {
     "name": "stdout",
     "output_type": "stream",
     "text": [
      "Intercept: 26.40571405758142\n",
      "Gradient: -17.95952740897864\n",
      "Coefficient of determination: 0.7675819654696702\n",
      "MSE: 760.2692578611334\n"
     ]
    }
   ],
   "source": [
    "print('Intercept: {}'.format(reg.intercept_))\n",
    "print('Gradient: {}'.format(reg.coef_[0]))\n",
    "print('Coefficient of determination: {}'.format(reg.score(X_test,y_test)))\n",
    "print('MSE: {}'.format(mean_squared_error(y_test,reg.predict(X_test))))"
   ]
  },
  {
   "cell_type": "markdown",
   "metadata": {},
   "source": [
    "Now I would like to print my whole test dataset."
   ]
  },
  {
   "cell_type": "code",
   "execution_count": 190,
   "metadata": {},
   "outputs": [
    {
     "name": "stdout",
     "output_type": "stream",
     "text": [
      "Test Dataset\n"
     ]
    },
    {
     "data": {
      "image/png": "[encoded data removed]",
      "text/plain": [
       "<Figure size 432x288 with 1 Axes>"
      ]
     },
     "metadata": {
      "needs_background": "light"
     },
     "output_type": "display_data"
    }
   ],
   "source": [
    "print('Test Dataset')\n",
    "display_results(X_test,y_test,reg_train)"
   ]
  },
  {
   "cell_type": "markdown",
   "metadata": {},
   "source": [
    "Printing test dataset with outliers and using random state = 44 for now."
   ]
  },
  {
   "cell_type": "code",
   "execution_count": 191,
   "metadata": {},
   "outputs": [
    {
     "name": "stdout",
     "output_type": "stream",
     "text": [
      "Test Dataset With Outlier\n"
     ]
    },
    {
     "data": {
      "image/png": "[encoded data removed]",
      "text/plain": [
       "<Figure size 432x288 with 1 Axes>"
      ]
     },
     "metadata": {
      "needs_background": "light"
     },
     "output_type": "display_data"
    }
   ],
   "source": [
    "X_train, X_test, y_train, y_test = train_test_split(X,Y, test_size=0.10,random_state=44)\n",
    "reg_train = LinearRegression()\n",
    "reg_train.fit(X_train, y_train)\n",
    "print('Test Dataset With Outlier')\n",
    "display_results(X_test,y_test,reg_train)"
   ]
  },
  {
   "cell_type": "code",
   "execution_count": 192,
   "metadata": {},
   "outputs": [
    {
     "name": "stdout",
     "output_type": "stream",
     "text": [
      "Coefficient of determination: 0.8265460496766852\n",
      "MSE: 580.627698452398\n"
     ]
    }
   ],
   "source": [
    "print('Coefficient of determination: {}'.format(reg.score(X_test,y_test)))\n",
    "print('MSE: {}'.format(mean_squared_error(y_test,reg.predict(X_test))))"
   ]
  },
  {
   "cell_type": "markdown",
   "metadata": {},
   "source": [
    "When spliting data into 80/20 fro testing & training and incresing random state at 80."
   ]
  },
  {
   "cell_type": "code",
   "execution_count": 193,
   "metadata": {},
   "outputs": [
    {
     "name": "stdout",
     "output_type": "stream",
     "text": [
      "Test Dataset With Outlier\n"
     ]
    },
    {
     "data": {
      "image/png": "[encoded data removed]",
      "text/plain": [
       "<Figure size 432x288 with 1 Axes>"
      ]
     },
     "metadata": {
      "needs_background": "light"
     },
     "output_type": "display_data"
    }
   ],
   "source": [
    "X_train, X_test, y_train, y_test = train_test_split(X,Y, test_size=0.80,random_state=80)\n",
    "reg_train = LinearRegression()\n",
    "reg_train.fit(X_train, y_train)\n",
    "print('Test Dataset With Outlier')\n",
    "display_results(X_test,y_test,reg_train)"
   ]
  },
  {
   "cell_type": "code",
   "execution_count": 194,
   "metadata": {},
   "outputs": [
    {
     "name": "stdout",
     "output_type": "stream",
     "text": [
      "Coefficient of determination: 0.8352348865394998\n",
      "MSE: 572.9910086252173\n"
     ]
    }
   ],
   "source": [
    "print('Coefficient of determination: {}'.format(reg.score(X_test,y_test)))\n",
    "print('MSE: {}'.format(mean_squared_error(y_test,reg.predict(X_test))))"
   ]
  },
  {
   "cell_type": "code",
   "execution_count": 195,
   "metadata": {},
   "outputs": [
    {
     "name": "stdout",
     "output_type": "stream",
     "text": [
      "Test Dataset With Outlier\n"
     ]
    },
    {
     "data": {
      "image/png": "[encoded data removed]",
      "text/plain": [
       "<Figure size 432x288 with 1 Axes>"
      ]
     },
     "metadata": {
      "needs_background": "light"
     },
     "output_type": "display_data"
    },
    {
     "name": "stdout",
     "output_type": "stream",
     "text": [
      "Coefficient of determination: 0.6834137266702646\n",
      "MSE: 733.3350521261616\n"
     ]
    }
   ],
   "source": [
    "X_train, X_test, y_train, y_test = train_test_split(X,Y, test_size=0.30,random_state=40)\n",
    "reg_train = LinearRegression()\n",
    "reg_train.fit(X_train, y_train)\n",
    "print('Test Dataset With Outlier')\n",
    "display_results(X_test,y_test,reg_train)\n",
    "print('Coefficient of determination: {}'.format(reg.score(X_test,y_test)))\n",
    "print('MSE: {}'.format(mean_squared_error(y_test,reg.predict(X_test))))"
   ]
  },
  {
   "cell_type": "markdown",
   "metadata": {},
   "source": [
    "From the above data visulization, we can see that, when we input lower or higher values then there is grater variation in the linear relationship, so we only predict accutately for particular range of input values with this linear model."
   ]
  }
 ],
 "metadata": {
  "kernelspec": {
   "display_name": "Python 3",
   "language": "python",
   "name": "python3"
  },
  "language_info": {
   "codemirror_mode": {
    "name": "ipython",
    "version": 3
   },
   "file_extension": ".py",
   "mimetype": "text/x-python",
   "name": "python",
   "nbconvert_exporter": "python",
   "pygments_lexer": "ipython3",
   "version": "3.7.6"
  }
 },
 "nbformat": 4,
 "nbformat_minor": 4
}

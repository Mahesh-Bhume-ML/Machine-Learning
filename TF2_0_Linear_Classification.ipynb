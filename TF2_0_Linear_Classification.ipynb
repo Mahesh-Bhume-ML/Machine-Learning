{
  "nbformat": 4,
  "nbformat_minor": 0,
  "metadata": {
    "colab": {
      "provenance": []
    },
    "kernelspec": {
      "name": "python3",
      "display_name": "Python 3"
    },
    "language_info": {
      "name": "python"
    }
  },
  "cells": [
    {
      "cell_type": "code",
      "execution_count": 1,
      "metadata": {
        "colab": {
          "base_uri": "https://localhost:8080/"
        },
        "id": "GKu78hPorA0E",
        "outputId": "6ce2d4fc-226a-4d41-fdd9-a4e8d6c47fbc"
      },
      "outputs": [
        {
          "output_type": "stream",
          "name": "stdout",
          "text": [
            "2.12.0\n"
          ]
        }
      ],
      "source": [
        "import tensorflow as tf\n",
        "print(tf.__version__)"
      ]
    },
    {
      "cell_type": "code",
      "source": [
        "# load required libraries\n",
        "from sklearn.model_selection import train_test_split\n",
        "from sklearn.preprocessing import StandardScaler\n",
        "import matplotlib.pyplot as plt\n",
        "import numpy as np\n"
      ],
      "metadata": {
        "id": "EtfKYEEjrmeQ"
      },
      "execution_count": 2,
      "outputs": []
    },
    {
      "cell_type": "code",
      "source": [
        "# Load in the data\n",
        "from sklearn.datasets import load_breast_cancer"
      ],
      "metadata": {
        "id": "FlUmH_fYrMS4"
      },
      "execution_count": 3,
      "outputs": []
    },
    {
      "cell_type": "code",
      "source": [
        "# load the data\n",
        "data = load_breast_cancer()"
      ],
      "metadata": {
        "id": "9nRJaHqorMXj"
      },
      "execution_count": 4,
      "outputs": []
    },
    {
      "cell_type": "code",
      "source": [
        "# check the type of 'data'\n",
        "type(data)"
      ],
      "metadata": {
        "colab": {
          "base_uri": "https://localhost:8080/"
        },
        "id": "MU8Buj0arMaI",
        "outputId": "c720ac4e-8707-424c-a8cd-df0adf5c2002"
      },
      "execution_count": 5,
      "outputs": [
        {
          "output_type": "execute_result",
          "data": {
            "text/plain": [
              "sklearn.utils._bunch.Bunch"
            ]
          },
          "metadata": {},
          "execution_count": 5
        }
      ]
    },
    {
      "cell_type": "markdown",
      "source": [
        "So ,it is a Bunch object, this basically acts like a dictionary where you can treat the keys like attributes."
      ],
      "metadata": {
        "id": "QiJ4KRKNyEpb"
      }
    },
    {
      "cell_type": "code",
      "source": [
        "data.keys()"
      ],
      "metadata": {
        "colab": {
          "base_uri": "https://localhost:8080/"
        },
        "id": "Yj8UrvumrMc5",
        "outputId": "5e09d354-e627-4a36-92da-26e4cd99c5e9"
      },
      "execution_count": 6,
      "outputs": [
        {
          "output_type": "execute_result",
          "data": {
            "text/plain": [
              "dict_keys(['data', 'target', 'frame', 'target_names', 'DESCR', 'feature_names', 'filename', 'data_module'])"
            ]
          },
          "metadata": {},
          "execution_count": 6
        }
      ]
    },
    {
      "cell_type": "code",
      "source": [
        "# 'data' (the attribute) means the input data\n",
        "data.data.shape\n",
        "# it has 569 samples, 30 features"
      ],
      "metadata": {
        "colab": {
          "base_uri": "https://localhost:8080/"
        },
        "id": "YsfpUNrkrMiS",
        "outputId": "72dcad17-8da1-424b-e978-477c7637c1ae"
      },
      "execution_count": 7,
      "outputs": [
        {
          "output_type": "execute_result",
          "data": {
            "text/plain": [
              "(569, 30)"
            ]
          },
          "metadata": {},
          "execution_count": 7
        }
      ]
    },
    {
      "cell_type": "code",
      "source": [
        "# 'targets'\n",
        "data.target\n",
        "# note how the targets are just 0s and 1s\n",
        "# normally, when you have K targets, they are labeled 0..K-1"
      ],
      "metadata": {
        "colab": {
          "base_uri": "https://localhost:8080/"
        },
        "id": "fYXgVcT1rMk4",
        "outputId": "5dd602fb-d8f4-44d6-c80c-3d6c995c25ac"
      },
      "execution_count": 8,
      "outputs": [
        {
          "output_type": "execute_result",
          "data": {
            "text/plain": [
              "array([0, 0, 0, 0, 0, 0, 0, 0, 0, 0, 0, 0, 0, 0, 0, 0, 0, 0, 0, 1, 1, 1,\n",
              "       0, 0, 0, 0, 0, 0, 0, 0, 0, 0, 0, 0, 0, 0, 0, 1, 0, 0, 0, 0, 0, 0,\n",
              "       0, 0, 1, 0, 1, 1, 1, 1, 1, 0, 0, 1, 0, 0, 1, 1, 1, 1, 0, 1, 0, 0,\n",
              "       1, 1, 1, 1, 0, 1, 0, 0, 1, 0, 1, 0, 0, 1, 1, 1, 0, 0, 1, 0, 0, 0,\n",
              "       1, 1, 1, 0, 1, 1, 0, 0, 1, 1, 1, 0, 0, 1, 1, 1, 1, 0, 1, 1, 0, 1,\n",
              "       1, 1, 1, 1, 1, 1, 1, 0, 0, 0, 1, 0, 0, 1, 1, 1, 0, 0, 1, 0, 1, 0,\n",
              "       0, 1, 0, 0, 1, 1, 0, 1, 1, 0, 1, 1, 1, 1, 0, 1, 1, 1, 1, 1, 1, 1,\n",
              "       1, 1, 0, 1, 1, 1, 1, 0, 0, 1, 0, 1, 1, 0, 0, 1, 1, 0, 0, 1, 1, 1,\n",
              "       1, 0, 1, 1, 0, 0, 0, 1, 0, 1, 0, 1, 1, 1, 0, 1, 1, 0, 0, 1, 0, 0,\n",
              "       0, 0, 1, 0, 0, 0, 1, 0, 1, 0, 1, 1, 0, 1, 0, 0, 0, 0, 1, 1, 0, 0,\n",
              "       1, 1, 1, 0, 1, 1, 1, 1, 1, 0, 0, 1, 1, 0, 1, 1, 0, 0, 1, 0, 1, 1,\n",
              "       1, 1, 0, 1, 1, 1, 1, 1, 0, 1, 0, 0, 0, 0, 0, 0, 0, 0, 0, 0, 0, 0,\n",
              "       0, 0, 1, 1, 1, 1, 1, 1, 0, 1, 0, 1, 1, 0, 1, 1, 0, 1, 0, 0, 1, 1,\n",
              "       1, 1, 1, 1, 1, 1, 1, 1, 1, 1, 1, 0, 1, 1, 0, 1, 0, 1, 1, 1, 1, 1,\n",
              "       1, 1, 1, 1, 1, 1, 1, 1, 1, 0, 1, 1, 1, 0, 1, 0, 1, 1, 1, 1, 0, 0,\n",
              "       0, 1, 1, 1, 1, 0, 1, 0, 1, 0, 1, 1, 1, 0, 1, 1, 1, 1, 1, 1, 1, 0,\n",
              "       0, 0, 1, 1, 1, 1, 1, 1, 1, 1, 1, 1, 1, 0, 0, 1, 0, 0, 0, 1, 0, 0,\n",
              "       1, 1, 1, 1, 1, 0, 1, 1, 1, 1, 1, 0, 1, 1, 1, 0, 1, 1, 0, 0, 1, 1,\n",
              "       1, 1, 1, 1, 0, 1, 1, 1, 1, 1, 1, 1, 0, 1, 1, 1, 1, 1, 0, 1, 1, 0,\n",
              "       1, 1, 1, 1, 1, 1, 1, 1, 1, 1, 1, 1, 0, 1, 0, 0, 1, 0, 1, 1, 1, 1,\n",
              "       1, 0, 1, 1, 0, 1, 0, 1, 1, 0, 1, 0, 1, 1, 1, 1, 1, 1, 1, 1, 0, 0,\n",
              "       1, 1, 1, 1, 1, 1, 0, 1, 1, 1, 1, 1, 1, 1, 1, 1, 1, 0, 1, 1, 1, 1,\n",
              "       1, 1, 1, 0, 1, 0, 1, 1, 0, 1, 1, 1, 1, 1, 0, 0, 1, 0, 1, 0, 1, 1,\n",
              "       1, 1, 1, 0, 1, 1, 0, 1, 0, 1, 0, 0, 1, 1, 1, 0, 1, 1, 1, 1, 1, 1,\n",
              "       1, 1, 1, 1, 1, 0, 1, 0, 0, 1, 1, 1, 1, 1, 1, 1, 1, 1, 1, 1, 1, 1,\n",
              "       1, 1, 1, 1, 1, 1, 1, 1, 1, 1, 1, 1, 0, 0, 0, 0, 0, 0, 1])"
            ]
          },
          "metadata": {},
          "execution_count": 8
        }
      ]
    },
    {
      "cell_type": "code",
      "source": [
        "# their meaning is not lost\n",
        "data.target_names"
      ],
      "metadata": {
        "colab": {
          "base_uri": "https://localhost:8080/"
        },
        "id": "nTZBk8KlrMnX",
        "outputId": "ff8689be-d7d7-42c2-8516-5022bac47367"
      },
      "execution_count": 9,
      "outputs": [
        {
          "output_type": "execute_result",
          "data": {
            "text/plain": [
              "array(['malignant', 'benign'], dtype='<U9')"
            ]
          },
          "metadata": {},
          "execution_count": 9
        }
      ]
    },
    {
      "cell_type": "code",
      "source": [
        "# there are also 569 corresponding targets\n",
        "data.target.shape"
      ],
      "metadata": {
        "colab": {
          "base_uri": "https://localhost:8080/"
        },
        "id": "RwuD6D1NrMqB",
        "outputId": "c53036a1-d3d3-432c-d3c6-12abb0c8f9a1"
      },
      "execution_count": 10,
      "outputs": [
        {
          "output_type": "execute_result",
          "data": {
            "text/plain": [
              "(569,)"
            ]
          },
          "metadata": {},
          "execution_count": 10
        }
      ]
    },
    {
      "cell_type": "code",
      "source": [
        "# We can also determine the meaning of each feature\n",
        "data.feature_names"
      ],
      "metadata": {
        "colab": {
          "base_uri": "https://localhost:8080/"
        },
        "id": "jT9zpyk2rMsn",
        "outputId": "4c4b2901-dae0-45ee-a2b7-dd1a3bf56e6f"
      },
      "execution_count": 11,
      "outputs": [
        {
          "output_type": "execute_result",
          "data": {
            "text/plain": [
              "array(['mean radius', 'mean texture', 'mean perimeter', 'mean area',\n",
              "       'mean smoothness', 'mean compactness', 'mean concavity',\n",
              "       'mean concave points', 'mean symmetry', 'mean fractal dimension',\n",
              "       'radius error', 'texture error', 'perimeter error', 'area error',\n",
              "       'smoothness error', 'compactness error', 'concavity error',\n",
              "       'concave points error', 'symmetry error',\n",
              "       'fractal dimension error', 'worst radius', 'worst texture',\n",
              "       'worst perimeter', 'worst area', 'worst smoothness',\n",
              "       'worst compactness', 'worst concavity', 'worst concave points',\n",
              "       'worst symmetry', 'worst fractal dimension'], dtype='<U23')"
            ]
          },
          "metadata": {},
          "execution_count": 11
        }
      ]
    },
    {
      "cell_type": "code",
      "source": [
        "# split the data into train and test sets\n",
        "# this lets us simulate how our model will perform in the future\n",
        "X_train, X_test, y_train, y_test = train_test_split(data.data, data.target, test_size=0.33)\n",
        "N, D = X_train.shape"
      ],
      "metadata": {
        "id": "jdhdLJNtrMvd"
      },
      "execution_count": 12,
      "outputs": []
    },
    {
      "cell_type": "markdown",
      "source": [
        "# Standardization\n",
        "\n",
        "The basic concept behind the standardization function is to make data points centred about the mean of all the data points presented in a feature with a unit standard deviation. This means the mean of the data point will be zero and the standard deviation will be 1.\n",
        "\n",
        "In statistics, the mean is the average value of all the numbers presented in a set of numbers and the standard deviation is a measurement of the dispersion of the data points from the mean value of the data points.  \n",
        "\n",
        "So in standardization, the data points are rescaled by ensuring that after scaling they will be in a curve shape. \n",
        "\n",
        "Mathematically we can represent it as follow\n",
        "\n",
        "![image-289.png](data:image/png;base64,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)\n"
      ],
      "metadata": {
        "id": "bRczfFkLtyTv"
      }
    },
    {
      "cell_type": "code",
      "source": [
        "# Scale the data\n",
        "\n",
        "scaler = StandardScaler()\n",
        "X_train = scaler.fit_transform(X_train)\n",
        "X_test = scaler.transform(X_test)"
      ],
      "metadata": {
        "id": "Q9gKRC41rMzT"
      },
      "execution_count": 13,
      "outputs": []
    },
    {
      "cell_type": "markdown",
      "source": [
        "# Tensorflow Sequential\n",
        "\n",
        "Tensorflow sequential is the group containing the stack of linear format that consists of various layers of the library package tf.keras.Model\n",
        "\n",
        "This model consists of various layers; every layer is worked upon individually while creating the model.\n",
        "\n",
        "The methodology followed while building the model is step-by-step and working on a single layer at a particular time. The Sequential tensorflow API is the easiest way using which we can run and create the Keras models. \n",
        "\n",
        "\n",
        "*   syntax of the Sequential API method of the Model \n",
        "\n",
        "Tensorflow.keras.Sequential(layers = None, name = None)\n",
        "\n"
      ],
      "metadata": {
        "id": "_O-Mu1hrvOia"
      }
    },
    {
      "cell_type": "code",
      "source": [
        "# Build the model with Tensorflow\n",
        "\n",
        "model = tf.keras.models.Sequential([\n",
        "  tf.keras.layers.Input(shape=(D,)),\n",
        "  tf.keras.layers.Dense(1, activation='sigmoid')\n",
        "])\n",
        "\n",
        "# Alternatively, we can do:\n",
        "# model = tf.keras.models.Sequential()\n",
        "# model.add(tf.keras.layers.Dense(1, input_shape=(D,), activation='sigmoid'))\n",
        "\n",
        "# compile the model\n",
        "model.compile(optimizer='adam',\n",
        "              loss='binary_crossentropy',\n",
        "              metrics=['accuracy'])\n",
        "\n",
        "\n",
        "# Train the model\n",
        "r = model.fit(X_train, y_train, validation_data=(X_test, y_test), epochs=100)\n",
        "\n",
        "\n",
        "# Evaluate the model - evaluate() returns loss and accuracy\n",
        "print(\"Train score:\", model.evaluate(X_train, y_train))\n",
        "print(\"Test score:\", model.evaluate(X_test, y_test))"
      ],
      "metadata": {
        "colab": {
          "base_uri": "https://localhost:8080/"
        },
        "id": "8Yf5p_2UrM2t",
        "outputId": "17552639-a14a-4cc3-95ce-9e8cd074258e"
      },
      "execution_count": 14,
      "outputs": [
        {
          "output_type": "stream",
          "name": "stdout",
          "text": [
            "Epoch 1/100\n",
            "12/12 [==============================] - 2s 58ms/step - loss: 0.4462 - accuracy: 0.7927 - val_loss: 0.4164 - val_accuracy: 0.8298\n",
            "Epoch 2/100\n",
            "12/12 [==============================] - 0s 9ms/step - loss: 0.4161 - accuracy: 0.8031 - val_loss: 0.3922 - val_accuracy: 0.8351\n",
            "Epoch 3/100\n",
            "12/12 [==============================] - 0s 12ms/step - loss: 0.3906 - accuracy: 0.8215 - val_loss: 0.3702 - val_accuracy: 0.8457\n",
            "Epoch 4/100\n",
            "12/12 [==============================] - 0s 10ms/step - loss: 0.3671 - accuracy: 0.8478 - val_loss: 0.3506 - val_accuracy: 0.8617\n",
            "Epoch 5/100\n",
            "12/12 [==============================] - 0s 11ms/step - loss: 0.3459 - accuracy: 0.8714 - val_loss: 0.3336 - val_accuracy: 0.8723\n",
            "Epoch 6/100\n",
            "12/12 [==============================] - 0s 13ms/step - loss: 0.3280 - accuracy: 0.8793 - val_loss: 0.3178 - val_accuracy: 0.8777\n",
            "Epoch 7/100\n",
            "12/12 [==============================] - 0s 9ms/step - loss: 0.3119 - accuracy: 0.8793 - val_loss: 0.3035 - val_accuracy: 0.8830\n",
            "Epoch 8/100\n",
            "12/12 [==============================] - 0s 13ms/step - loss: 0.2965 - accuracy: 0.8845 - val_loss: 0.2910 - val_accuracy: 0.8883\n",
            "Epoch 9/100\n",
            "12/12 [==============================] - 0s 11ms/step - loss: 0.2830 - accuracy: 0.8898 - val_loss: 0.2796 - val_accuracy: 0.8989\n",
            "Epoch 10/100\n",
            "12/12 [==============================] - 0s 14ms/step - loss: 0.2707 - accuracy: 0.8898 - val_loss: 0.2693 - val_accuracy: 0.9043\n",
            "Epoch 11/100\n",
            "12/12 [==============================] - 0s 14ms/step - loss: 0.2601 - accuracy: 0.8950 - val_loss: 0.2595 - val_accuracy: 0.9096\n",
            "Epoch 12/100\n",
            "12/12 [==============================] - 0s 11ms/step - loss: 0.2499 - accuracy: 0.8976 - val_loss: 0.2505 - val_accuracy: 0.9096\n",
            "Epoch 13/100\n",
            "12/12 [==============================] - 0s 16ms/step - loss: 0.2402 - accuracy: 0.9055 - val_loss: 0.2426 - val_accuracy: 0.9096\n",
            "Epoch 14/100\n",
            "12/12 [==============================] - 0s 19ms/step - loss: 0.2320 - accuracy: 0.9134 - val_loss: 0.2351 - val_accuracy: 0.9202\n",
            "Epoch 15/100\n",
            "12/12 [==============================] - 0s 16ms/step - loss: 0.2238 - accuracy: 0.9134 - val_loss: 0.2283 - val_accuracy: 0.9202\n",
            "Epoch 16/100\n",
            "12/12 [==============================] - 0s 26ms/step - loss: 0.2167 - accuracy: 0.9186 - val_loss: 0.2220 - val_accuracy: 0.9255\n",
            "Epoch 17/100\n",
            "12/12 [==============================] - 0s 17ms/step - loss: 0.2101 - accuracy: 0.9213 - val_loss: 0.2161 - val_accuracy: 0.9309\n",
            "Epoch 18/100\n",
            "12/12 [==============================] - 0s 23ms/step - loss: 0.2035 - accuracy: 0.9291 - val_loss: 0.2107 - val_accuracy: 0.9309\n",
            "Epoch 19/100\n",
            "12/12 [==============================] - 0s 25ms/step - loss: 0.1977 - accuracy: 0.9291 - val_loss: 0.2057 - val_accuracy: 0.9309\n",
            "Epoch 20/100\n",
            "12/12 [==============================] - 0s 15ms/step - loss: 0.1925 - accuracy: 0.9318 - val_loss: 0.2009 - val_accuracy: 0.9309\n",
            "Epoch 21/100\n",
            "12/12 [==============================] - 0s 21ms/step - loss: 0.1873 - accuracy: 0.9370 - val_loss: 0.1963 - val_accuracy: 0.9309\n",
            "Epoch 22/100\n",
            "12/12 [==============================] - 0s 21ms/step - loss: 0.1825 - accuracy: 0.9370 - val_loss: 0.1920 - val_accuracy: 0.9309\n",
            "Epoch 23/100\n",
            "12/12 [==============================] - 0s 17ms/step - loss: 0.1781 - accuracy: 0.9449 - val_loss: 0.1881 - val_accuracy: 0.9309\n",
            "Epoch 24/100\n",
            "12/12 [==============================] - 0s 22ms/step - loss: 0.1739 - accuracy: 0.9475 - val_loss: 0.1844 - val_accuracy: 0.9309\n",
            "Epoch 25/100\n",
            "12/12 [==============================] - 0s 23ms/step - loss: 0.1698 - accuracy: 0.9475 - val_loss: 0.1811 - val_accuracy: 0.9362\n",
            "Epoch 26/100\n",
            "12/12 [==============================] - 0s 17ms/step - loss: 0.1662 - accuracy: 0.9475 - val_loss: 0.1777 - val_accuracy: 0.9362\n",
            "Epoch 27/100\n",
            "12/12 [==============================] - 0s 9ms/step - loss: 0.1628 - accuracy: 0.9528 - val_loss: 0.1746 - val_accuracy: 0.9415\n",
            "Epoch 28/100\n",
            "12/12 [==============================] - 0s 10ms/step - loss: 0.1594 - accuracy: 0.9528 - val_loss: 0.1717 - val_accuracy: 0.9415\n",
            "Epoch 29/100\n",
            "12/12 [==============================] - 0s 18ms/step - loss: 0.1563 - accuracy: 0.9580 - val_loss: 0.1688 - val_accuracy: 0.9468\n",
            "Epoch 30/100\n",
            "12/12 [==============================] - 0s 10ms/step - loss: 0.1532 - accuracy: 0.9580 - val_loss: 0.1662 - val_accuracy: 0.9468\n",
            "Epoch 31/100\n",
            "12/12 [==============================] - 0s 18ms/step - loss: 0.1503 - accuracy: 0.9580 - val_loss: 0.1638 - val_accuracy: 0.9468\n",
            "Epoch 32/100\n",
            "12/12 [==============================] - 0s 16ms/step - loss: 0.1477 - accuracy: 0.9580 - val_loss: 0.1613 - val_accuracy: 0.9468\n",
            "Epoch 33/100\n",
            "12/12 [==============================] - 0s 8ms/step - loss: 0.1452 - accuracy: 0.9580 - val_loss: 0.1591 - val_accuracy: 0.9468\n",
            "Epoch 34/100\n",
            "12/12 [==============================] - 0s 22ms/step - loss: 0.1428 - accuracy: 0.9580 - val_loss: 0.1570 - val_accuracy: 0.9468\n",
            "Epoch 35/100\n",
            "12/12 [==============================] - 0s 20ms/step - loss: 0.1404 - accuracy: 0.9580 - val_loss: 0.1549 - val_accuracy: 0.9468\n",
            "Epoch 36/100\n",
            "12/12 [==============================] - 0s 9ms/step - loss: 0.1382 - accuracy: 0.9580 - val_loss: 0.1530 - val_accuracy: 0.9468\n",
            "Epoch 37/100\n",
            "12/12 [==============================] - 0s 15ms/step - loss: 0.1360 - accuracy: 0.9580 - val_loss: 0.1512 - val_accuracy: 0.9468\n",
            "Epoch 38/100\n",
            "12/12 [==============================] - 0s 20ms/step - loss: 0.1341 - accuracy: 0.9580 - val_loss: 0.1494 - val_accuracy: 0.9468\n",
            "Epoch 39/100\n",
            "12/12 [==============================] - 0s 30ms/step - loss: 0.1321 - accuracy: 0.9580 - val_loss: 0.1476 - val_accuracy: 0.9468\n",
            "Epoch 40/100\n",
            "12/12 [==============================] - 0s 16ms/step - loss: 0.1303 - accuracy: 0.9633 - val_loss: 0.1462 - val_accuracy: 0.9468\n",
            "Epoch 41/100\n",
            "12/12 [==============================] - 0s 8ms/step - loss: 0.1285 - accuracy: 0.9633 - val_loss: 0.1445 - val_accuracy: 0.9468\n",
            "Epoch 42/100\n",
            "12/12 [==============================] - 0s 19ms/step - loss: 0.1267 - accuracy: 0.9659 - val_loss: 0.1430 - val_accuracy: 0.9521\n",
            "Epoch 43/100\n",
            "12/12 [==============================] - 0s 12ms/step - loss: 0.1250 - accuracy: 0.9685 - val_loss: 0.1416 - val_accuracy: 0.9521\n",
            "Epoch 44/100\n",
            "12/12 [==============================] - 0s 9ms/step - loss: 0.1235 - accuracy: 0.9685 - val_loss: 0.1403 - val_accuracy: 0.9521\n",
            "Epoch 45/100\n",
            "12/12 [==============================] - 0s 8ms/step - loss: 0.1219 - accuracy: 0.9685 - val_loss: 0.1390 - val_accuracy: 0.9521\n",
            "Epoch 46/100\n",
            "12/12 [==============================] - 0s 10ms/step - loss: 0.1205 - accuracy: 0.9711 - val_loss: 0.1378 - val_accuracy: 0.9521\n",
            "Epoch 47/100\n",
            "12/12 [==============================] - 0s 9ms/step - loss: 0.1190 - accuracy: 0.9711 - val_loss: 0.1365 - val_accuracy: 0.9521\n",
            "Epoch 48/100\n",
            "12/12 [==============================] - 0s 8ms/step - loss: 0.1177 - accuracy: 0.9711 - val_loss: 0.1356 - val_accuracy: 0.9521\n",
            "Epoch 49/100\n",
            "12/12 [==============================] - 0s 11ms/step - loss: 0.1164 - accuracy: 0.9711 - val_loss: 0.1344 - val_accuracy: 0.9574\n",
            "Epoch 50/100\n",
            "12/12 [==============================] - 0s 7ms/step - loss: 0.1150 - accuracy: 0.9711 - val_loss: 0.1333 - val_accuracy: 0.9574\n",
            "Epoch 51/100\n",
            "12/12 [==============================] - 0s 12ms/step - loss: 0.1139 - accuracy: 0.9711 - val_loss: 0.1322 - val_accuracy: 0.9574\n",
            "Epoch 52/100\n",
            "12/12 [==============================] - 0s 8ms/step - loss: 0.1126 - accuracy: 0.9711 - val_loss: 0.1313 - val_accuracy: 0.9574\n",
            "Epoch 53/100\n",
            "12/12 [==============================] - 0s 9ms/step - loss: 0.1115 - accuracy: 0.9711 - val_loss: 0.1303 - val_accuracy: 0.9574\n",
            "Epoch 54/100\n",
            "12/12 [==============================] - 0s 10ms/step - loss: 0.1104 - accuracy: 0.9711 - val_loss: 0.1294 - val_accuracy: 0.9574\n",
            "Epoch 55/100\n",
            "12/12 [==============================] - 0s 9ms/step - loss: 0.1093 - accuracy: 0.9711 - val_loss: 0.1285 - val_accuracy: 0.9574\n",
            "Epoch 56/100\n",
            "12/12 [==============================] - 0s 8ms/step - loss: 0.1082 - accuracy: 0.9711 - val_loss: 0.1276 - val_accuracy: 0.9574\n",
            "Epoch 57/100\n",
            "12/12 [==============================] - 0s 7ms/step - loss: 0.1072 - accuracy: 0.9711 - val_loss: 0.1268 - val_accuracy: 0.9574\n",
            "Epoch 58/100\n",
            "12/12 [==============================] - 0s 8ms/step - loss: 0.1062 - accuracy: 0.9711 - val_loss: 0.1260 - val_accuracy: 0.9628\n",
            "Epoch 59/100\n",
            "12/12 [==============================] - 0s 9ms/step - loss: 0.1053 - accuracy: 0.9711 - val_loss: 0.1252 - val_accuracy: 0.9628\n",
            "Epoch 60/100\n",
            "12/12 [==============================] - 0s 8ms/step - loss: 0.1043 - accuracy: 0.9711 - val_loss: 0.1246 - val_accuracy: 0.9628\n",
            "Epoch 61/100\n",
            "12/12 [==============================] - 0s 16ms/step - loss: 0.1034 - accuracy: 0.9711 - val_loss: 0.1239 - val_accuracy: 0.9628\n",
            "Epoch 62/100\n",
            "12/12 [==============================] - 0s 12ms/step - loss: 0.1026 - accuracy: 0.9711 - val_loss: 0.1232 - val_accuracy: 0.9628\n",
            "Epoch 63/100\n",
            "12/12 [==============================] - 0s 9ms/step - loss: 0.1017 - accuracy: 0.9711 - val_loss: 0.1225 - val_accuracy: 0.9628\n",
            "Epoch 64/100\n",
            "12/12 [==============================] - 0s 16ms/step - loss: 0.1009 - accuracy: 0.9738 - val_loss: 0.1219 - val_accuracy: 0.9628\n",
            "Epoch 65/100\n",
            "12/12 [==============================] - 0s 14ms/step - loss: 0.1000 - accuracy: 0.9738 - val_loss: 0.1213 - val_accuracy: 0.9628\n",
            "Epoch 66/100\n",
            "12/12 [==============================] - 0s 7ms/step - loss: 0.0993 - accuracy: 0.9738 - val_loss: 0.1206 - val_accuracy: 0.9628\n",
            "Epoch 67/100\n",
            "12/12 [==============================] - 0s 11ms/step - loss: 0.0985 - accuracy: 0.9738 - val_loss: 0.1200 - val_accuracy: 0.9628\n",
            "Epoch 68/100\n",
            "12/12 [==============================] - 0s 8ms/step - loss: 0.0977 - accuracy: 0.9738 - val_loss: 0.1194 - val_accuracy: 0.9628\n",
            "Epoch 69/100\n",
            "12/12 [==============================] - 0s 8ms/step - loss: 0.0970 - accuracy: 0.9738 - val_loss: 0.1189 - val_accuracy: 0.9628\n",
            "Epoch 70/100\n",
            "12/12 [==============================] - 0s 18ms/step - loss: 0.0963 - accuracy: 0.9738 - val_loss: 0.1184 - val_accuracy: 0.9628\n",
            "Epoch 71/100\n",
            "12/12 [==============================] - 0s 11ms/step - loss: 0.0956 - accuracy: 0.9738 - val_loss: 0.1179 - val_accuracy: 0.9628\n",
            "Epoch 72/100\n",
            "12/12 [==============================] - 0s 9ms/step - loss: 0.0949 - accuracy: 0.9738 - val_loss: 0.1174 - val_accuracy: 0.9681\n",
            "Epoch 73/100\n",
            "12/12 [==============================] - 0s 8ms/step - loss: 0.0942 - accuracy: 0.9738 - val_loss: 0.1169 - val_accuracy: 0.9681\n",
            "Epoch 74/100\n",
            "12/12 [==============================] - 0s 7ms/step - loss: 0.0936 - accuracy: 0.9738 - val_loss: 0.1164 - val_accuracy: 0.9681\n",
            "Epoch 75/100\n",
            "12/12 [==============================] - 0s 10ms/step - loss: 0.0930 - accuracy: 0.9738 - val_loss: 0.1160 - val_accuracy: 0.9681\n",
            "Epoch 76/100\n",
            "12/12 [==============================] - 0s 11ms/step - loss: 0.0924 - accuracy: 0.9738 - val_loss: 0.1155 - val_accuracy: 0.9681\n",
            "Epoch 77/100\n",
            "12/12 [==============================] - 0s 17ms/step - loss: 0.0917 - accuracy: 0.9764 - val_loss: 0.1150 - val_accuracy: 0.9681\n",
            "Epoch 78/100\n",
            "12/12 [==============================] - 0s 15ms/step - loss: 0.0912 - accuracy: 0.9764 - val_loss: 0.1146 - val_accuracy: 0.9681\n",
            "Epoch 79/100\n",
            "12/12 [==============================] - 0s 11ms/step - loss: 0.0906 - accuracy: 0.9764 - val_loss: 0.1142 - val_accuracy: 0.9681\n",
            "Epoch 80/100\n",
            "12/12 [==============================] - 0s 8ms/step - loss: 0.0900 - accuracy: 0.9764 - val_loss: 0.1138 - val_accuracy: 0.9681\n",
            "Epoch 81/100\n",
            "12/12 [==============================] - 0s 8ms/step - loss: 0.0895 - accuracy: 0.9764 - val_loss: 0.1133 - val_accuracy: 0.9681\n",
            "Epoch 82/100\n",
            "12/12 [==============================] - 0s 15ms/step - loss: 0.0889 - accuracy: 0.9764 - val_loss: 0.1130 - val_accuracy: 0.9681\n",
            "Epoch 83/100\n",
            "12/12 [==============================] - 0s 25ms/step - loss: 0.0884 - accuracy: 0.9764 - val_loss: 0.1127 - val_accuracy: 0.9681\n",
            "Epoch 84/100\n",
            "12/12 [==============================] - 0s 24ms/step - loss: 0.0879 - accuracy: 0.9764 - val_loss: 0.1123 - val_accuracy: 0.9681\n",
            "Epoch 85/100\n",
            "12/12 [==============================] - 0s 23ms/step - loss: 0.0874 - accuracy: 0.9764 - val_loss: 0.1120 - val_accuracy: 0.9681\n",
            "Epoch 86/100\n",
            "12/12 [==============================] - 0s 8ms/step - loss: 0.0869 - accuracy: 0.9790 - val_loss: 0.1116 - val_accuracy: 0.9681\n",
            "Epoch 87/100\n",
            "12/12 [==============================] - 0s 9ms/step - loss: 0.0864 - accuracy: 0.9790 - val_loss: 0.1113 - val_accuracy: 0.9681\n",
            "Epoch 88/100\n",
            "12/12 [==============================] - 0s 12ms/step - loss: 0.0859 - accuracy: 0.9790 - val_loss: 0.1109 - val_accuracy: 0.9681\n",
            "Epoch 89/100\n",
            "12/12 [==============================] - 0s 17ms/step - loss: 0.0854 - accuracy: 0.9790 - val_loss: 0.1107 - val_accuracy: 0.9681\n",
            "Epoch 90/100\n",
            "12/12 [==============================] - 0s 11ms/step - loss: 0.0849 - accuracy: 0.9790 - val_loss: 0.1103 - val_accuracy: 0.9681\n",
            "Epoch 91/100\n",
            "12/12 [==============================] - 0s 12ms/step - loss: 0.0845 - accuracy: 0.9790 - val_loss: 0.1100 - val_accuracy: 0.9681\n",
            "Epoch 92/100\n",
            "12/12 [==============================] - 0s 13ms/step - loss: 0.0841 - accuracy: 0.9790 - val_loss: 0.1096 - val_accuracy: 0.9681\n",
            "Epoch 93/100\n",
            "12/12 [==============================] - 0s 10ms/step - loss: 0.0836 - accuracy: 0.9790 - val_loss: 0.1093 - val_accuracy: 0.9681\n",
            "Epoch 94/100\n",
            "12/12 [==============================] - 0s 9ms/step - loss: 0.0832 - accuracy: 0.9790 - val_loss: 0.1092 - val_accuracy: 0.9681\n",
            "Epoch 95/100\n",
            "12/12 [==============================] - 0s 35ms/step - loss: 0.0828 - accuracy: 0.9790 - val_loss: 0.1088 - val_accuracy: 0.9681\n",
            "Epoch 96/100\n",
            "12/12 [==============================] - 0s 24ms/step - loss: 0.0824 - accuracy: 0.9790 - val_loss: 0.1086 - val_accuracy: 0.9681\n",
            "Epoch 97/100\n",
            "12/12 [==============================] - 0s 18ms/step - loss: 0.0819 - accuracy: 0.9790 - val_loss: 0.1083 - val_accuracy: 0.9681\n",
            "Epoch 98/100\n",
            "12/12 [==============================] - 0s 22ms/step - loss: 0.0815 - accuracy: 0.9790 - val_loss: 0.1080 - val_accuracy: 0.9681\n",
            "Epoch 99/100\n",
            "12/12 [==============================] - 0s 16ms/step - loss: 0.0812 - accuracy: 0.9790 - val_loss: 0.1078 - val_accuracy: 0.9681\n",
            "Epoch 100/100\n",
            "12/12 [==============================] - 0s 20ms/step - loss: 0.0808 - accuracy: 0.9790 - val_loss: 0.1076 - val_accuracy: 0.9681\n",
            "12/12 [==============================] - 0s 5ms/step - loss: 0.0805 - accuracy: 0.9790\n",
            "Train score: [0.08053689450025558, 0.9790025949478149]\n",
            "6/6 [==============================] - 0s 4ms/step - loss: 0.1076 - accuracy: 0.9681\n",
            "Test score: [0.10758146643638611, 0.9680851101875305]\n"
          ]
        }
      ]
    },
    {
      "cell_type": "code",
      "source": [
        "# Plot loss returned by model.fit()\n",
        "plt.plot(r.history['loss'], label='loss')\n",
        "plt.plot(r.history['val_loss'], label='val_loss')\n",
        "plt.legend()"
      ],
      "metadata": {
        "colab": {
          "base_uri": "https://localhost:8080/",
          "height": 447
        },
        "id": "yyy_OeAprM5F",
        "outputId": "a030b02e-2c1d-4f6f-dbf5-57d3c5fa9667"
      },
      "execution_count": 15,
      "outputs": [
        {
          "output_type": "execute_result",
          "data": {
            "text/plain": [
              "<matplotlib.legend.Legend at 0x7f91d07c2890>"
            ]
          },
          "metadata": {},
          "execution_count": 15
        },
        {
          "output_type": "display_data",
          "data": {
            "text/plain": [
              "<Figure size 640x480 with 1 Axes>"
            ],
            "image/png": "[encoded data removed]"
          },
          "metadata": {}
        }
      ]
    },
    {
      "cell_type": "code",
      "source": [
        "# Plot the accuracy \n",
        "plt.plot(r.history['accuracy'], label='acc')\n",
        "plt.plot(r.history['val_accuracy'], label='val_acc')\n",
        "plt.legend()"
      ],
      "metadata": {
        "colab": {
          "base_uri": "https://localhost:8080/",
          "height": 447
        },
        "id": "FwwuCYWErM7I",
        "outputId": "1f5bcff6-30d4-47ba-fc88-585a0d32db68"
      },
      "execution_count": 16,
      "outputs": [
        {
          "output_type": "execute_result",
          "data": {
            "text/plain": [
              "<matplotlib.legend.Legend at 0x7f91ccaaf730>"
            ]
          },
          "metadata": {},
          "execution_count": 16
        },
        {
          "output_type": "display_data",
          "data": {
            "text/plain": [
              "<Figure size 640x480 with 1 Axes>"
            ],
            "image/png": "[encoded data removed]"
          },
          "metadata": {}
        }
      ]
    },
    {
      "cell_type": "markdown",
      "source": [
        "# Making Predictions"
      ],
      "metadata": {
        "id": "l0nZrIMUsdTI"
      }
    },
    {
      "cell_type": "code",
      "source": [
        "# Make predictions\n",
        "P = model.predict(X_test)\n",
        "print(P) # they are outputs of the sigmoid, interpreted as probabilities p(y = 1 | x)"
      ],
      "metadata": {
        "colab": {
          "base_uri": "https://localhost:8080/"
        },
        "id": "4zhwEk8LrM84",
        "outputId": "68c5c6d6-4bec-46bc-cc18-caf81e80851d"
      },
      "execution_count": 17,
      "outputs": [
        {
          "output_type": "stream",
          "name": "stdout",
          "text": [
            "6/6 [==============================] - 0s 3ms/step\n",
            "[[8.5684299e-01]\n",
            " [5.5264082e-02]\n",
            " [9.9682832e-01]\n",
            " [4.1276714e-01]\n",
            " [2.0656545e-02]\n",
            " [9.9995798e-01]\n",
            " [2.9239224e-02]\n",
            " [1.7611077e-04]\n",
            " [9.9048501e-01]\n",
            " [9.9651957e-01]\n",
            " [5.1540015e-03]\n",
            " [8.5510248e-05]\n",
            " [5.6759846e-01]\n",
            " [9.8393744e-01]\n",
            " [1.8816110e-04]\n",
            " [1.6063623e-02]\n",
            " [9.9980319e-01]\n",
            " [9.9508947e-01]\n",
            " [9.9852097e-01]\n",
            " [1.4393166e-05]\n",
            " [9.9730641e-01]\n",
            " [1.0615985e-04]\n",
            " [1.9186378e-01]\n",
            " [1.0023276e-05]\n",
            " [9.5312691e-01]\n",
            " [8.3619272e-09]\n",
            " [2.1980434e-04]\n",
            " [1.2969458e-01]\n",
            " [7.6571387e-01]\n",
            " [9.9984044e-01]\n",
            " [6.7233173e-03]\n",
            " [9.7266102e-01]\n",
            " [9.6571875e-01]\n",
            " [9.7429240e-01]\n",
            " [2.1584723e-02]\n",
            " [9.9488699e-01]\n",
            " [4.7945208e-03]\n",
            " [9.9087238e-01]\n",
            " [6.5514410e-05]\n",
            " [2.2702258e-04]\n",
            " [1.5132711e-02]\n",
            " [1.8245962e-02]\n",
            " [7.5207222e-01]\n",
            " [8.2356719e-06]\n",
            " [9.1970760e-06]\n",
            " [6.2905157e-05]\n",
            " [8.1730366e-01]\n",
            " [9.9052185e-01]\n",
            " [9.4108236e-01]\n",
            " [9.9792522e-01]\n",
            " [1.7347103e-05]\n",
            " [9.8116136e-01]\n",
            " [4.8969660e-02]\n",
            " [9.8236686e-01]\n",
            " [8.8423902e-01]\n",
            " [9.8802668e-01]\n",
            " [8.5333723e-01]\n",
            " [9.9851286e-01]\n",
            " [9.9431056e-01]\n",
            " [9.7609299e-01]\n",
            " [9.9751693e-01]\n",
            " [9.9726129e-01]\n",
            " [9.9728042e-01]\n",
            " [9.9997705e-01]\n",
            " [8.2607228e-01]\n",
            " [9.9871773e-01]\n",
            " [3.7054766e-02]\n",
            " [9.9377584e-01]\n",
            " [9.9798596e-01]\n",
            " [3.8305625e-02]\n",
            " [9.9978369e-01]\n",
            " [4.0354840e-02]\n",
            " [6.5484002e-02]\n",
            " [9.9926144e-01]\n",
            " [9.8940492e-01]\n",
            " [9.9488080e-01]\n",
            " [6.3995010e-01]\n",
            " [9.7312409e-01]\n",
            " [9.6466845e-01]\n",
            " [7.9101771e-01]\n",
            " [9.3813753e-01]\n",
            " [9.9605131e-01]\n",
            " [9.5420033e-02]\n",
            " [6.2430818e-02]\n",
            " [1.7716862e-02]\n",
            " [9.9691445e-01]\n",
            " [3.9093393e-05]\n",
            " [9.9498779e-01]\n",
            " [9.7200567e-01]\n",
            " [8.8845962e-01]\n",
            " [9.9994940e-01]\n",
            " [9.9671465e-01]\n",
            " [9.9943972e-01]\n",
            " [9.8976627e-02]\n",
            " [4.8838145e-01]\n",
            " [9.2925864e-01]\n",
            " [9.0568316e-01]\n",
            " [9.9984789e-01]\n",
            " [5.9829843e-01]\n",
            " [1.9242183e-03]\n",
            " [8.0634493e-01]\n",
            " [9.9962914e-01]\n",
            " [9.9878383e-01]\n",
            " [9.1724551e-01]\n",
            " [5.8111353e-03]\n",
            " [1.7886541e-05]\n",
            " [3.9426740e-02]\n",
            " [9.9948299e-01]\n",
            " [9.9876213e-01]\n",
            " [9.3309181e-03]\n",
            " [9.5988947e-01]\n",
            " [1.0313910e-04]\n",
            " [9.9655551e-01]\n",
            " [9.2807037e-01]\n",
            " [9.9904382e-01]\n",
            " [9.9820340e-01]\n",
            " [9.9348891e-01]\n",
            " [9.9914837e-01]\n",
            " [2.4823488e-03]\n",
            " [9.9925983e-01]\n",
            " [9.9266791e-01]\n",
            " [9.0189242e-01]\n",
            " [9.3876904e-01]\n",
            " [6.6878593e-01]\n",
            " [9.9687409e-01]\n",
            " [2.4982612e-04]\n",
            " [9.9893796e-01]\n",
            " [4.9229669e-09]\n",
            " [5.1659542e-01]\n",
            " [9.3146127e-01]\n",
            " [9.9981582e-01]\n",
            " [9.6122837e-01]\n",
            " [9.0656590e-01]\n",
            " [9.4024307e-01]\n",
            " [9.7702134e-01]\n",
            " [9.3423888e-02]\n",
            " [9.9620944e-01]\n",
            " [9.2604184e-01]\n",
            " [9.9570560e-01]\n",
            " [9.8738509e-01]\n",
            " [9.9658716e-01]\n",
            " [5.9849006e-01]\n",
            " [3.2284793e-02]\n",
            " [2.0132916e-07]\n",
            " [2.9431534e-05]\n",
            " [2.7033725e-06]\n",
            " [7.4301757e-02]\n",
            " [9.8744637e-01]\n",
            " [2.9791084e-01]\n",
            " [9.9840236e-01]\n",
            " [9.9526393e-01]\n",
            " [9.9411970e-01]\n",
            " [1.4784487e-01]\n",
            " [9.8938775e-01]\n",
            " [2.2610053e-03]\n",
            " [1.2608973e-04]\n",
            " [9.9852264e-01]\n",
            " [8.6524892e-01]\n",
            " [4.7048455e-04]\n",
            " [9.8256534e-01]\n",
            " [9.5290834e-01]\n",
            " [3.6970696e-01]\n",
            " [6.7672902e-04]\n",
            " [1.2984180e-01]\n",
            " [1.7563461e-01]\n",
            " [9.8719651e-01]\n",
            " [4.7359179e-05]\n",
            " [9.6674418e-01]\n",
            " [1.7530809e-03]\n",
            " [2.2871833e-04]\n",
            " [9.9963856e-01]\n",
            " [8.3475989e-01]\n",
            " [9.9993414e-01]\n",
            " [3.3237346e-02]\n",
            " [9.9136871e-01]\n",
            " [9.8344779e-01]\n",
            " [9.9820358e-01]\n",
            " [9.8797929e-01]\n",
            " [9.3847251e-01]\n",
            " [2.0402422e-02]\n",
            " [9.9945605e-01]\n",
            " [9.9789065e-01]\n",
            " [3.5610825e-03]\n",
            " [9.9251562e-01]\n",
            " [9.4803041e-01]\n",
            " [9.9186176e-01]\n",
            " [9.9965203e-01]\n",
            " [9.9299532e-01]]\n"
          ]
        }
      ]
    },
    {
      "cell_type": "code",
      "source": [
        "# Round to get the actual predictions\n",
        "# Note: has to be flattened since the targets are size (N,) while the predictions are size (N,1)\n",
        "P = np.round(P).flatten()\n",
        "print(P)\n"
      ],
      "metadata": {
        "colab": {
          "base_uri": "https://localhost:8080/"
        },
        "id": "sMFfaI1yrM_P",
        "outputId": "fe031efd-2616-45fa-8eda-685e76781ac5"
      },
      "execution_count": 18,
      "outputs": [
        {
          "output_type": "stream",
          "name": "stdout",
          "text": [
            "[1. 0. 1. 0. 0. 1. 0. 0. 1. 1. 0. 0. 1. 1. 0. 0. 1. 1. 1. 0. 1. 0. 0. 0.\n",
            " 1. 0. 0. 0. 1. 1. 0. 1. 1. 1. 0. 1. 0. 1. 0. 0. 0. 0. 1. 0. 0. 0. 1. 1.\n",
            " 1. 1. 0. 1. 0. 1. 1. 1. 1. 1. 1. 1. 1. 1. 1. 1. 1. 1. 0. 1. 1. 0. 1. 0.\n",
            " 0. 1. 1. 1. 1. 1. 1. 1. 1. 1. 0. 0. 0. 1. 0. 1. 1. 1. 1. 1. 1. 0. 0. 1.\n",
            " 1. 1. 1. 0. 1. 1. 1. 1. 0. 0. 0. 1. 1. 0. 1. 0. 1. 1. 1. 1. 1. 1. 0. 1.\n",
            " 1. 1. 1. 1. 1. 0. 1. 0. 1. 1. 1. 1. 1. 1. 1. 0. 1. 1. 1. 1. 1. 1. 0. 0.\n",
            " 0. 0. 0. 1. 0. 1. 1. 1. 0. 1. 0. 0. 1. 1. 0. 1. 1. 0. 0. 0. 0. 1. 0. 1.\n",
            " 0. 0. 1. 1. 1. 0. 1. 1. 1. 1. 1. 0. 1. 1. 0. 1. 1. 1. 1. 1.]\n"
          ]
        }
      ]
    },
    {
      "cell_type": "code",
      "source": [
        "# Calculate the accuracy, compare it to evaluate() output\n",
        "print(\"Manually calculated accuracy:\", np.mean(P == y_test))\n",
        "print(\"Evaluate output:\", model.evaluate(X_test, y_test))"
      ],
      "metadata": {
        "colab": {
          "base_uri": "https://localhost:8080/"
        },
        "id": "L0h_SpgnrNCU",
        "outputId": "8c3970bb-a2e1-498a-ae24-0d33a7ce3e8d"
      },
      "execution_count": 19,
      "outputs": [
        {
          "output_type": "stream",
          "name": "stdout",
          "text": [
            "Manually calculated accuracy: 0.9680851063829787\n",
            "6/6 [==============================] - 0s 4ms/step - loss: 0.1076 - accuracy: 0.9681\n",
            "Evaluate output: [0.10758146643638611, 0.9680851101875305]\n"
          ]
        }
      ]
    },
    {
      "cell_type": "markdown",
      "source": [
        "# Saving and Loading a Model"
      ],
      "metadata": {
        "id": "eWJCLa4ast15"
      }
    },
    {
      "cell_type": "code",
      "source": [
        "# Let's now save our model to a file\n",
        "model.save('linearclassifier.h5')"
      ],
      "metadata": {
        "id": "mF9DpPOnrNFL"
      },
      "execution_count": 20,
      "outputs": []
    },
    {
      "cell_type": "code",
      "source": [
        "# Check that the model file exists\n",
        "!ls -lh "
      ],
      "metadata": {
        "colab": {
          "base_uri": "https://localhost:8080/"
        },
        "id": "8FYgdRP3rNKu",
        "outputId": "204a6bc5-57fc-4151-8ebc-9032b4e7aa36"
      },
      "execution_count": 21,
      "outputs": [
        {
          "output_type": "stream",
          "name": "stdout",
          "text": [
            "total 24K\n",
            "-rw-r--r-- 1 root root  20K Jun  7 16:52 linearclassifier.h5\n",
            "drwxr-xr-x 1 root root 4.0K Jun  6 13:37 sample_data\n"
          ]
        }
      ]
    },
    {
      "cell_type": "code",
      "source": [
        "# Let's load the model and confirm that it still works\n",
        "\n",
        "model = tf.keras.models.load_model('linearclassifier.h5')\n",
        "print(model.layers)\n",
        "model.evaluate(X_test, y_test)"
      ],
      "metadata": {
        "colab": {
          "base_uri": "https://localhost:8080/"
        },
        "id": "cfe8SugQszqp",
        "outputId": "7b72ccea-d441-4627-9a17-93800dac5892"
      },
      "execution_count": 22,
      "outputs": [
        {
          "output_type": "stream",
          "name": "stdout",
          "text": [
            "[<keras.layers.core.dense.Dense object at 0x7f91cdb70850>]\n",
            "6/6 [==============================] - 0s 4ms/step - loss: 0.1076 - accuracy: 0.9681\n"
          ]
        },
        {
          "output_type": "execute_result",
          "data": {
            "text/plain": [
              "[0.10758146643638611, 0.9680851101875305]"
            ]
          },
          "metadata": {},
          "execution_count": 22
        }
      ]
    },
    {
      "cell_type": "code",
      "source": [
        "# Download the file - \n",
        "# from google.colab import files\n",
        "# files.download('linearclassifier.h5')"
      ],
      "metadata": {
        "colab": {
          "base_uri": "https://localhost:8080/",
          "height": 17
        },
        "id": "KKk5iFTlsztn",
        "outputId": "4ead6ca5-5cca-49d2-d061-e269927c0395"
      },
      "execution_count": 23,
      "outputs": [
        {
          "output_type": "display_data",
          "data": {
            "text/plain": [
              "<IPython.core.display.Javascript object>"
            ],
            "application/javascript": [
              "\n",
              "    async function download(id, filename, size) {\n",
              "      if (!google.colab.kernel.accessAllowed) {\n",
              "        return;\n",
              "      }\n",
              "      const div = document.createElement('div');\n",
              "      const label = document.createElement('label');\n",
              "      label.textContent = `Downloading \"${filename}\": `;\n",
              "      div.appendChild(label);\n",
              "      const progress = document.createElement('progress');\n",
              "      progress.max = size;\n",
              "      div.appendChild(progress);\n",
              "      document.body.appendChild(div);\n",
              "\n",
              "      const buffers = [];\n",
              "      let downloaded = 0;\n",
              "\n",
              "      const channel = await google.colab.kernel.comms.open(id);\n",
              "      // Send a message to notify the kernel that we're ready.\n",
              "      channel.send({})\n",
              "\n",
              "      for await (const message of channel.messages) {\n",
              "        // Send a message to notify the kernel that we're ready.\n",
              "        channel.send({})\n",
              "        if (message.buffers) {\n",
              "          for (const buffer of message.buffers) {\n",
              "            buffers.push(buffer);\n",
              "            downloaded += buffer.byteLength;\n",
              "            progress.value = downloaded;\n",
              "          }\n",
              "        }\n",
              "      }\n",
              "      const blob = new Blob(buffers, {type: 'application/binary'});\n",
              "      const a = document.createElement('a');\n",
              "      a.href = window.URL.createObjectURL(blob);\n",
              "      a.download = filename;\n",
              "      div.appendChild(a);\n",
              "      a.click();\n",
              "      div.remove();\n",
              "    }\n",
              "  "
            ]
          },
          "metadata": {}
        },
        {
          "output_type": "display_data",
          "data": {
            "text/plain": [
              "<IPython.core.display.Javascript object>"
            ],
            "application/javascript": [
              "download(\"download_c518a0c0-7c62-4d55-9f15-fadbe9f51489\", \"linearclassifier.h5\", 20240)"
            ]
          },
          "metadata": {}
        }
      ]
    }
  ]
}